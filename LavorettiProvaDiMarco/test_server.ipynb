{
 "cells": [
  {
   "cell_type": "code",
   "execution_count": 1,
   "outputs": [],
   "source": [
    "def collapse(df):\n",
    "    time_df=compute_time_features(df)\n",
    "    freq_df=compute_freq_features(df)\n",
    "    return pd.concat([time_df, freq_df], axis=1)"
   ],
   "metadata": {
    "collapsed": false
   }
  },
  {
   "cell_type": "code",
   "execution_count": 2,
   "outputs": [],
   "source": [
    "def compute_freq_features(df):\n",
    "    data_total = pd.DataFrame()\n",
    "    for column in df.columns:\n",
    "        temp = find_fft_points(df[column], column)\n",
    "        data_total = pd.concat([data_total, temp], axis=1)\n",
    "    return data_total"
   ],
   "metadata": {
    "collapsed": false
   }
  },
  {
   "cell_type": "code",
   "execution_count": 3,
   "outputs": [],
   "source": [
    "def find_fft_points(data, name):\n",
    "    (indices_peaks, peaks) = compute_peaks(data)\n",
    "    columns_x=[name + \"X#1\", name + \"X#2\", name + \"X#3\", name + \"X#4\", name + \"X#5\"]\n",
    "    columns_y=[name + \"P#1\", name + \"P#2\", name + \"P#3\", name + \"P#4\", name + \"P#5\"]\n",
    "    x_p = pd.DataFrame(data=indices_peaks).T\n",
    "    x_p.columns = columns_x\n",
    "    y_p = pd.DataFrame(data=peaks).T\n",
    "    y_p.columns = columns_y\n",
    "    tot_p = pd.concat([x_p, y_p], axis=1)\n",
    "    return tot_p"
   ],
   "metadata": {
    "collapsed": false
   }
  },
  {
   "cell_type": "code",
   "execution_count": 4,
   "outputs": [],
   "source": [
    "def compute_peaks(data):\n",
    "    N = len(data)\n",
    "    T= 1/50\n",
    "    yf=fft(np.asarray(data))\n",
    "    xf=fftfreq(N,T)[:N//2]\n",
    "    yf=2.0/N*np.abs(yf[0:N//2])\n",
    "\n",
    "    max_peak_height=0.001*np.nanmax(yf)\n",
    "    indices_peaks=detecta.detect_peaks(yf, mph=max_peak_height)\n",
    "    peaks = yf[indices_peaks]\n",
    "    return (indices_peaks[0:5], peaks[0:5])"
   ],
   "metadata": {
    "collapsed": false
   }
  },
  {
   "cell_type": "code",
   "execution_count": 5,
   "outputs": [],
   "source": [
    "def find_time_features(data, name):\n",
    "    columns = [name + \"_mean\", name + \"_std\", name + \"_range\", name + \"_IRQ\"]\n",
    "    properties = [np.mean(data), np.std(data), np.max(data) - np.min(data),\n",
    "                  np.quantile(data, 0.75) - np.quantile(data, 0.25)]\n",
    "    d = pd.DataFrame(data=properties).T\n",
    "    d.columns = columns\n",
    "    return d"
   ],
   "metadata": {
    "collapsed": false
   }
  },
  {
   "cell_type": "code",
   "execution_count": 6,
   "outputs": [],
   "source": [
    "from matplotlib import pyplot as plt\n",
    "import scipy as sc\n",
    "import numpy as np\n",
    "from numpy.fft import fft, ifft, fftfreq\n",
    "import detecta"
   ],
   "metadata": {
    "collapsed": false
   }
  },
  {
   "cell_type": "code",
   "execution_count": 7,
   "outputs": [],
   "source": [
    "def compute_time_features(df):\n",
    "    data_total = pd.DataFrame()\n",
    "    for column in df.columns:\n",
    "        temp = find_time_features(df[column], column)\n",
    "        data_total = pd.concat([data_total, temp], axis=1)\n",
    "    return data_total"
   ],
   "metadata": {
    "collapsed": false
   }
  },
  {
   "cell_type": "code",
   "execution_count": 8,
   "outputs": [],
   "source": [
    "import struct\n",
    "\n",
    "def recv_msg(sock):\n",
    "    # Read message length and unpack it into an integer\n",
    "    msglen = int(sock.recv(8))\n",
    "    if not msglen:\n",
    "        return None\n",
    "    # Read the message data\n",
    "    return recvall(sock, msglen)\n",
    "\n",
    "def recvall(sock, n):\n",
    "    # Helper function to recv n bytes or return None if EOF is hit\n",
    "    data = bytearray()\n",
    "    while len(data) < n:\n",
    "        packet = sock.recv(n - len(data))\n",
    "        if not packet:\n",
    "            return None\n",
    "        data.extend(packet)\n",
    "    return data"
   ],
   "metadata": {
    "collapsed": false
   }
  },
  {
   "cell_type": "code",
   "execution_count": null,
   "outputs": [
    {
     "name": "stdout",
     "output_type": "stream",
     "text": [
      "the server is listening at ('0.0.0.0', 1060)\n",
      "['standing']\n",
      "['sitting']\n",
      "['sitting']\n",
      "['sitting']\n",
      "['sitting']\n"
     ]
    }
   ],
   "source": [
    "import socket, sys, pandas as pd\n",
    "HOST = ''\n",
    "PORT = 1060\n",
    "ADDR =(HOST,PORT)\n",
    "def server(p):\n",
    "    s = socket.socket(socket.AF_INET,socket.SOCK_STREAM)\n",
    "    s.setsockopt(socket.SOL_SOCKET,socket.SO_REUSEADDR,1)\n",
    "    s.bind(ADDR)\n",
    "    s.listen(1)\n",
    "    print ('the server is listening at',s.getsockname())\n",
    "    ss,sockname = s.accept()\n",
    "    i=0\n",
    "    while True:\n",
    "        #accept the complete message\n",
    "        msg=recv_msg(ss).decode()\n",
    "        samples=msg.split(\"|\")\n",
    "        if len(samples) == 6:\n",
    "            lin_acc_x=list(map(float, samples[0][1:len(samples[0])-1].split(\", \")))\n",
    "            lin_acc_y=list(map(float, samples[1][1:len(samples[1])-1].split(\", \")))\n",
    "            lin_acc_z=list(map(float, samples[2][1:len(samples[2])-1].split(\", \")))\n",
    "            rot_x=list(map(float, samples[3][1:len(samples[3])-1].split(\", \")))\n",
    "            rot_y=list(map(float, samples[4][1:len(samples[4])-1].split(\", \")))\n",
    "            rot_z=list(map(float, samples[5][1:len(samples[5])-1].split(\", \")))\n",
    "            df_len=min([len(lin_acc_x), len(lin_acc_y), len(lin_acc_z), len(rot_x), len(rot_y), len(rot_z)])\n",
    "\n",
    "            df=pd.DataFrame(columns=[\"rotationRate.x\", \"rotationRate.y\", \"rotationRate.z\", \"userAcceleration.x\", \"userAcceleration.y\", \"userAcceleration.z\"])\n",
    "            df[\"rotationRate.x\"]=rot_x[0:df_len]\n",
    "            df[\"rotationRate.x\"]=df[\"rotationRate.x\"]*2\n",
    "            df[\"rotationRate.y\"]=rot_y[0:df_len]\n",
    "            df[\"rotationRate.y\"]=df[\"rotationRate.y\"]*2\n",
    "            df[\"rotationRate.z\"]=rot_z[0:df_len]\n",
    "            df[\"rotationRate.z\"]=df[\"rotationRate.z\"]*2\n",
    "            df[\"userAcceleration.x\"]=lin_acc_x[0:df_len]\n",
    "            df[\"userAcceleration.x\"]=df[\"userAcceleration.x\"]/5\n",
    "            df[\"userAcceleration.y\"]=lin_acc_y[0:df_len]\n",
    "            df[\"userAcceleration.y\"]=df[\"userAcceleration.y\"]/5\n",
    "            df[\"userAcceleration.z\"]=lin_acc_z[0:df_len]\n",
    "            df[\"userAcceleration.z\"]=df[\"userAcceleration.z\"]/5\n",
    "\n",
    "            collapsed_df=collapse(df)\n",
    "            prediction=p.predict(collapsed_df)\n",
    "            print(prediction)\n",
    "\n",
    "    ss.close()\n",
    "\n",
    "dataframe_file=pd.read_csv(\"collapsed_datasets/dataset_peaks_honor.csv\")\n",
    "dataframe_file=dataframe_file.drop(\"Unnamed: 0\", axis=1)\n",
    "from imblearn.pipeline import Pipeline\n",
    "from imblearn.over_sampling import SMOTE\n",
    "from sklearn.neighbors import KNeighborsClassifier\n",
    "from sklearn.preprocessing import StandardScaler\n",
    "from sklearn.model_selection import cross_val_score\n",
    "from sklearn.feature_selection import SelectKBest\n",
    "estimators = [('scaling', StandardScaler()),\n",
    "              ('sampling', SMOTE()),\n",
    "              ('feature-selection',SelectKBest(k=20)),\n",
    "              ('clf', KNeighborsClassifier(n_neighbors=5))]\n",
    "\n",
    "pipe=Pipeline(estimators)\n",
    "pipe.fit(dataframe_file.drop('class', axis=1), dataframe_file['class'])\n",
    "\n",
    "server(pipe)\n"
   ],
   "metadata": {
    "collapsed": false
   }
  }
 ],
 "metadata": {
  "kernelspec": {
   "display_name": "Python 3",
   "language": "python",
   "name": "python3"
  },
  "language_info": {
   "codemirror_mode": {
    "name": "ipython",
    "version": 2
   },
   "file_extension": ".py",
   "mimetype": "text/x-python",
   "name": "python",
   "nbconvert_exporter": "python",
   "pygments_lexer": "ipython2",
   "version": "2.7.6"
  }
 },
 "nbformat": 4,
 "nbformat_minor": 0
}
