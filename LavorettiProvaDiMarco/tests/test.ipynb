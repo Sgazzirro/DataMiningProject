{
 "cells": [
  {
   "cell_type": "code",
   "execution_count": 12,
   "outputs": [
    {
     "name": "stdout",
     "output_type": "stream",
     "text": [
      "Processing file: ../honor20readings_original\\dataset_honor20_downstairs.csv\n",
      "Processing file: ../honor20readings_original\\dataset_honor20_downstairs1.csv\n",
      "Processing file: ../honor20readings_original\\dataset_honor20_downstairs2.csv\n",
      "Processing file: ../honor20readings_original\\dataset_honor20_downstairs3.csv\n",
      "Processing file: ../honor20readings_original\\dataset_honor20_jogging.csv\n",
      "Processing file: ../honor20readings_original\\dataset_honor20_jogging1.csv\n",
      "Processing file: ../honor20readings_original\\dataset_honor20_sitting.csv\n",
      "Processing file: ../honor20readings_original\\dataset_honor20_sitting1.csv\n",
      "Processing file: ../honor20readings_original\\dataset_honor20_standing.csv\n",
      "Processing file: ../honor20readings_original\\dataset_honor20_standing1.csv\n",
      "Processing file: ../honor20readings_original\\dataset_honor20_standing2.csv\n",
      "Processing file: ../honor20readings_original\\dataset_honor20_upstairs.csv\n",
      "Processing file: ../honor20readings_original\\dataset_honor20_upstairs1.csv\n",
      "Processing file: ../honor20readings_original\\dataset_honor20_upstairs2.csv\n",
      "Processing file: ../honor20readings_original\\dataset_honor20_upstairs3.csv\n",
      "Processing file: ../honor20readings_original\\dataset_honor20_walking.csv\n",
      "Processing file: ../honor20readings_original\\dataset_honor20_walking1.csv\n",
      "Processing file: ../honor20readings_original\\dataset_honor20_walking2.csv\n",
      "Processing file: ../honor20readings_original\\dataset_honor20_walking3.csv\n"
     ]
    }
   ],
   "source": [
    "import pandas as pd\n",
    "import glob\n",
    "all_files=glob.glob(\"../honor20readings_original/*\", recursive=True)\n",
    "for file in all_files:\n",
    "    print(\"Processing file: \"+file)\n",
    "    file_name=file.split(\"\\\\\")[1]\n",
    "    df=pd.read_csv(file)\n",
    "    df[\"rotationRate.z\"]=df[\"rotationRate.z\"].apply(lambda x: x*2)\n",
    "    df[[\"userAcceleration.x\", \"userAcceleration.y\", \"userAcceleration.z\"]]=df[[\"userAcceleration.x\", \"userAcceleration.y\", \"userAcceleration.z\"]].apply(lambda x: x/7)\n",
    "    df.to_csv(\"../honor20readings/\"+file_name, index=False)\n"
   ],
   "metadata": {
    "collapsed": false
   }
  }
 ],
 "metadata": {
  "kernelspec": {
   "display_name": "Python 3",
   "language": "python",
   "name": "python3"
  },
  "language_info": {
   "codemirror_mode": {
    "name": "ipython",
    "version": 2
   },
   "file_extension": ".py",
   "mimetype": "text/x-python",
   "name": "python",
   "nbconvert_exporter": "python",
   "pygments_lexer": "ipython2",
   "version": "2.7.6"
  }
 },
 "nbformat": 4,
 "nbformat_minor": 0
}
