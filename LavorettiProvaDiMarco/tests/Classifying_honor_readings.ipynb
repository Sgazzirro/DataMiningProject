{
 "cells": [
  {
   "cell_type": "code",
   "execution_count": 2,
   "metadata": {
    "collapsed": true
   },
   "outputs": [],
   "source": [
    "import pandas as pd\n",
    "from matplotlib import pyplot as plt\n",
    "import numpy as np\n"
   ]
  },
  {
   "cell_type": "code",
   "execution_count": 15,
   "outputs": [
    {
     "data": {
      "text/plain": "     rotationRate.x_mean  rotationRate.x_std  rotationRate.x_range  \\\n0               0.485156            2.762064             13.993376   \n1              -0.377483            3.323853             14.792808   \n2               0.058869            2.612729             12.318460   \n3              -0.453245            3.096445             13.540454   \n4              -0.283102            2.778656             12.016918   \n..                   ...                 ...                   ...   \n181            -0.112028            2.974215             10.208521   \n182            -0.344927            2.734039              9.814355   \n183            -0.209784            2.682671              9.603025   \n184             0.588049            3.188333             10.232933   \n185            -0.090394            2.805666              9.922959   \n\n     rotationRate.x_IRQ  rotationRate.y_mean  rotationRate.y_std  \\\n0              3.305608            -0.243750            1.161159   \n1              3.637126             0.166094            1.077427   \n2              2.700546             0.073081            1.374832   \n3              3.291442             0.009436            1.561249   \n4              3.408461             0.040583            1.392356   \n..                  ...                  ...                 ...   \n181            3.956529            -0.166129            1.504060   \n182            2.259852            -1.580103            1.469321   \n183            2.312401            -1.163761            1.393684   \n184            6.103522             0.275597            1.760986   \n185            2.968831             0.336091            1.549948   \n\n     rotationRate.y_range  rotationRate.y_IRQ  rotationRate.z_mean  \\\n0                5.050801            1.967597            -0.331189   \n1                4.642782            1.556743             0.209037   \n2                7.546950            1.172717             0.030033   \n3                6.340389            2.244113             0.029219   \n4                6.053492            1.749705             0.033693   \n..                    ...                 ...                  ...   \n181              5.837639            2.272784            -0.221919   \n182              6.287005            2.135665            -0.119584   \n183              6.086950            1.669068            -0.023731   \n184              8.056479            2.487079            -0.257274   \n185              6.677802            2.677649            -0.332849   \n\n     rotationRate.z_std  ...  userAcceleration.zX#2  userAcceleration.zX#3  \\\n0              1.034269  ...               0.000533               0.000933   \n1              0.775714  ...               0.000533               0.000933   \n2              0.866680  ...               0.000533               0.000933   \n3              0.950979  ...               0.000533               0.000933   \n4              1.083285  ...               0.000533               0.000933   \n..                  ...  ...                    ...                    ...   \n181            0.600366  ...               0.000800               0.001067   \n182            0.479790  ...               0.000800               0.001067   \n183            0.494402  ...               0.000533               0.000800   \n184            0.802629  ...               0.000533               0.000800   \n185            0.690506  ...               0.000800               0.001067   \n\n     userAcceleration.zX#4  userAcceleration.zX#5  userAcceleration.zP#1  \\\n0                 0.001333               0.001733              12.305169   \n1                 0.001333               0.001600              25.222080   \n2                 0.001200               0.001600              20.811701   \n3                 0.001333               0.001733              21.901189   \n4                 0.001200               0.001600              22.444461   \n..                     ...                    ...                    ...   \n181               0.001467               0.002000              25.972188   \n182               0.001333               0.001600              22.336937   \n183               0.001067               0.001600               7.120165   \n184               0.001067               0.001333               8.348899   \n185               0.001733               0.002000              20.151555   \n\n     userAcceleration.zP#2  userAcceleration.zP#3  userAcceleration.zP#4  \\\n0                26.259025              16.280097               9.847660   \n1                32.942613              39.680745               7.550469   \n2                23.971477              26.198812               7.231452   \n3                33.924607              39.289062               9.603850   \n4                30.198514              28.820366              12.655176   \n..                     ...                    ...                    ...   \n181              26.642463               6.197587               3.596096   \n182              19.942676              13.519746               7.736941   \n183              24.621680              15.600598               7.602581   \n184              26.248582              18.561503              10.859398   \n185              25.312860              10.853390               5.374977   \n\n     userAcceleration.zP#5       class  \n0                13.987488  downstairs  \n1                12.473723  downstairs  \n2                14.303633  downstairs  \n3                12.111498  downstairs  \n4                10.843344  downstairs  \n..                     ...         ...  \n181               7.630988     walking  \n182               4.253725     walking  \n183               6.307452     walking  \n184               3.746034     walking  \n185               9.604111     walking  \n\n[186 rows x 85 columns]",
      "text/html": "<div>\n<style scoped>\n    .dataframe tbody tr th:only-of-type {\n        vertical-align: middle;\n    }\n\n    .dataframe tbody tr th {\n        vertical-align: top;\n    }\n\n    .dataframe thead th {\n        text-align: right;\n    }\n</style>\n<table border=\"1\" class=\"dataframe\">\n  <thead>\n    <tr style=\"text-align: right;\">\n      <th></th>\n      <th>rotationRate.x_mean</th>\n      <th>rotationRate.x_std</th>\n      <th>rotationRate.x_range</th>\n      <th>rotationRate.x_IRQ</th>\n      <th>rotationRate.y_mean</th>\n      <th>rotationRate.y_std</th>\n      <th>rotationRate.y_range</th>\n      <th>rotationRate.y_IRQ</th>\n      <th>rotationRate.z_mean</th>\n      <th>rotationRate.z_std</th>\n      <th>...</th>\n      <th>userAcceleration.zX#2</th>\n      <th>userAcceleration.zX#3</th>\n      <th>userAcceleration.zX#4</th>\n      <th>userAcceleration.zX#5</th>\n      <th>userAcceleration.zP#1</th>\n      <th>userAcceleration.zP#2</th>\n      <th>userAcceleration.zP#3</th>\n      <th>userAcceleration.zP#4</th>\n      <th>userAcceleration.zP#5</th>\n      <th>class</th>\n    </tr>\n  </thead>\n  <tbody>\n    <tr>\n      <th>0</th>\n      <td>0.485156</td>\n      <td>2.762064</td>\n      <td>13.993376</td>\n      <td>3.305608</td>\n      <td>-0.243750</td>\n      <td>1.161159</td>\n      <td>5.050801</td>\n      <td>1.967597</td>\n      <td>-0.331189</td>\n      <td>1.034269</td>\n      <td>...</td>\n      <td>0.000533</td>\n      <td>0.000933</td>\n      <td>0.001333</td>\n      <td>0.001733</td>\n      <td>12.305169</td>\n      <td>26.259025</td>\n      <td>16.280097</td>\n      <td>9.847660</td>\n      <td>13.987488</td>\n      <td>downstairs</td>\n    </tr>\n    <tr>\n      <th>1</th>\n      <td>-0.377483</td>\n      <td>3.323853</td>\n      <td>14.792808</td>\n      <td>3.637126</td>\n      <td>0.166094</td>\n      <td>1.077427</td>\n      <td>4.642782</td>\n      <td>1.556743</td>\n      <td>0.209037</td>\n      <td>0.775714</td>\n      <td>...</td>\n      <td>0.000533</td>\n      <td>0.000933</td>\n      <td>0.001333</td>\n      <td>0.001600</td>\n      <td>25.222080</td>\n      <td>32.942613</td>\n      <td>39.680745</td>\n      <td>7.550469</td>\n      <td>12.473723</td>\n      <td>downstairs</td>\n    </tr>\n    <tr>\n      <th>2</th>\n      <td>0.058869</td>\n      <td>2.612729</td>\n      <td>12.318460</td>\n      <td>2.700546</td>\n      <td>0.073081</td>\n      <td>1.374832</td>\n      <td>7.546950</td>\n      <td>1.172717</td>\n      <td>0.030033</td>\n      <td>0.866680</td>\n      <td>...</td>\n      <td>0.000533</td>\n      <td>0.000933</td>\n      <td>0.001200</td>\n      <td>0.001600</td>\n      <td>20.811701</td>\n      <td>23.971477</td>\n      <td>26.198812</td>\n      <td>7.231452</td>\n      <td>14.303633</td>\n      <td>downstairs</td>\n    </tr>\n    <tr>\n      <th>3</th>\n      <td>-0.453245</td>\n      <td>3.096445</td>\n      <td>13.540454</td>\n      <td>3.291442</td>\n      <td>0.009436</td>\n      <td>1.561249</td>\n      <td>6.340389</td>\n      <td>2.244113</td>\n      <td>0.029219</td>\n      <td>0.950979</td>\n      <td>...</td>\n      <td>0.000533</td>\n      <td>0.000933</td>\n      <td>0.001333</td>\n      <td>0.001733</td>\n      <td>21.901189</td>\n      <td>33.924607</td>\n      <td>39.289062</td>\n      <td>9.603850</td>\n      <td>12.111498</td>\n      <td>downstairs</td>\n    </tr>\n    <tr>\n      <th>4</th>\n      <td>-0.283102</td>\n      <td>2.778656</td>\n      <td>12.016918</td>\n      <td>3.408461</td>\n      <td>0.040583</td>\n      <td>1.392356</td>\n      <td>6.053492</td>\n      <td>1.749705</td>\n      <td>0.033693</td>\n      <td>1.083285</td>\n      <td>...</td>\n      <td>0.000533</td>\n      <td>0.000933</td>\n      <td>0.001200</td>\n      <td>0.001600</td>\n      <td>22.444461</td>\n      <td>30.198514</td>\n      <td>28.820366</td>\n      <td>12.655176</td>\n      <td>10.843344</td>\n      <td>downstairs</td>\n    </tr>\n    <tr>\n      <th>...</th>\n      <td>...</td>\n      <td>...</td>\n      <td>...</td>\n      <td>...</td>\n      <td>...</td>\n      <td>...</td>\n      <td>...</td>\n      <td>...</td>\n      <td>...</td>\n      <td>...</td>\n      <td>...</td>\n      <td>...</td>\n      <td>...</td>\n      <td>...</td>\n      <td>...</td>\n      <td>...</td>\n      <td>...</td>\n      <td>...</td>\n      <td>...</td>\n      <td>...</td>\n      <td>...</td>\n    </tr>\n    <tr>\n      <th>181</th>\n      <td>-0.112028</td>\n      <td>2.974215</td>\n      <td>10.208521</td>\n      <td>3.956529</td>\n      <td>-0.166129</td>\n      <td>1.504060</td>\n      <td>5.837639</td>\n      <td>2.272784</td>\n      <td>-0.221919</td>\n      <td>0.600366</td>\n      <td>...</td>\n      <td>0.000800</td>\n      <td>0.001067</td>\n      <td>0.001467</td>\n      <td>0.002000</td>\n      <td>25.972188</td>\n      <td>26.642463</td>\n      <td>6.197587</td>\n      <td>3.596096</td>\n      <td>7.630988</td>\n      <td>walking</td>\n    </tr>\n    <tr>\n      <th>182</th>\n      <td>-0.344927</td>\n      <td>2.734039</td>\n      <td>9.814355</td>\n      <td>2.259852</td>\n      <td>-1.580103</td>\n      <td>1.469321</td>\n      <td>6.287005</td>\n      <td>2.135665</td>\n      <td>-0.119584</td>\n      <td>0.479790</td>\n      <td>...</td>\n      <td>0.000800</td>\n      <td>0.001067</td>\n      <td>0.001333</td>\n      <td>0.001600</td>\n      <td>22.336937</td>\n      <td>19.942676</td>\n      <td>13.519746</td>\n      <td>7.736941</td>\n      <td>4.253725</td>\n      <td>walking</td>\n    </tr>\n    <tr>\n      <th>183</th>\n      <td>-0.209784</td>\n      <td>2.682671</td>\n      <td>9.603025</td>\n      <td>2.312401</td>\n      <td>-1.163761</td>\n      <td>1.393684</td>\n      <td>6.086950</td>\n      <td>1.669068</td>\n      <td>-0.023731</td>\n      <td>0.494402</td>\n      <td>...</td>\n      <td>0.000533</td>\n      <td>0.000800</td>\n      <td>0.001067</td>\n      <td>0.001600</td>\n      <td>7.120165</td>\n      <td>24.621680</td>\n      <td>15.600598</td>\n      <td>7.602581</td>\n      <td>6.307452</td>\n      <td>walking</td>\n    </tr>\n    <tr>\n      <th>184</th>\n      <td>0.588049</td>\n      <td>3.188333</td>\n      <td>10.232933</td>\n      <td>6.103522</td>\n      <td>0.275597</td>\n      <td>1.760986</td>\n      <td>8.056479</td>\n      <td>2.487079</td>\n      <td>-0.257274</td>\n      <td>0.802629</td>\n      <td>...</td>\n      <td>0.000533</td>\n      <td>0.000800</td>\n      <td>0.001067</td>\n      <td>0.001333</td>\n      <td>8.348899</td>\n      <td>26.248582</td>\n      <td>18.561503</td>\n      <td>10.859398</td>\n      <td>3.746034</td>\n      <td>walking</td>\n    </tr>\n    <tr>\n      <th>185</th>\n      <td>-0.090394</td>\n      <td>2.805666</td>\n      <td>9.922959</td>\n      <td>2.968831</td>\n      <td>0.336091</td>\n      <td>1.549948</td>\n      <td>6.677802</td>\n      <td>2.677649</td>\n      <td>-0.332849</td>\n      <td>0.690506</td>\n      <td>...</td>\n      <td>0.000800</td>\n      <td>0.001067</td>\n      <td>0.001733</td>\n      <td>0.002000</td>\n      <td>20.151555</td>\n      <td>25.312860</td>\n      <td>10.853390</td>\n      <td>5.374977</td>\n      <td>9.604111</td>\n      <td>walking</td>\n    </tr>\n  </tbody>\n</table>\n<p>186 rows × 85 columns</p>\n</div>"
     },
     "execution_count": 15,
     "metadata": {},
     "output_type": "execute_result"
    }
   ],
   "source": [
    "# let's do a quick test to see how Random Forest is classifying these samples\n",
    "df=pd.read_csv(\"../collapsed_datasets/honor_ds_3secs.csv\")\n",
    "df=df.drop(\"Unnamed: 0\", axis=1)\n",
    "X_test=df.drop(\"class\", axis=1)\n",
    "y_test=df[\"class\"]\n",
    "df_train=pd.read_csv(\"../collapsed_datasets/deviceMotion_3secs.csv\")\n",
    "X_train=df_train.drop(\"class\", axis=1)\n",
    "y_train=df_train[\"class\"]\n",
    "\n",
    "\n"
   ],
   "metadata": {
    "collapsed": false
   }
  },
  {
   "cell_type": "code",
   "execution_count": null,
   "outputs": [],
   "source": [],
   "metadata": {
    "collapsed": false
   }
  }
 ],
 "metadata": {
  "kernelspec": {
   "display_name": "Python 3",
   "language": "python",
   "name": "python3"
  },
  "language_info": {
   "codemirror_mode": {
    "name": "ipython",
    "version": 2
   },
   "file_extension": ".py",
   "mimetype": "text/x-python",
   "name": "python",
   "nbconvert_exporter": "python",
   "pygments_lexer": "ipython2",
   "version": "2.7.6"
  }
 },
 "nbformat": 4,
 "nbformat_minor": 0
}
