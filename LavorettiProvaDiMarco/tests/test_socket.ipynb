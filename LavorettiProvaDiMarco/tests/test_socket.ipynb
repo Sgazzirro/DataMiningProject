{
 "cells": [
  {
   "cell_type": "code",
   "execution_count": 1,
   "metadata": {
    "collapsed": true
   },
   "outputs": [],
   "source": [
    "import numpy as np\n",
    "import pandas as pd\n",
    "import glob"
   ]
  },
  {
   "cell_type": "code",
   "execution_count": 2,
   "outputs": [],
   "source": [
    "from numpy.fft import fft\n",
    "import detecta\n",
    "def compute_peaks(data):\n",
    "    X=fft(data)\n",
    "    N=len(X)\n",
    "    n=np.arange(N)\n",
    "    sr=1/50\n",
    "    T=N/sr\n",
    "    freq=n/T\n",
    "    c=20\n",
    "\n",
    "    n_oneside=N//2\n",
    "    x=freq[1:n_oneside]\n",
    "    y=np.abs(X[1:n_oneside])\n",
    "\n",
    "    max_peak_height=np.amax(y)/c\n",
    "    peaks=[]\n",
    "    while len(peaks)<5:\n",
    "        peaks=detecta.detect_peaks(y, mph=max_peak_height)\n",
    "        c+=5\n",
    "        max_peak_height=np.amax(y)/c\n",
    "    peaks_x=peaks/T\n",
    "    peaks_y=y[peaks]\n",
    "\n",
    "    return peaks_x[0:5], peaks_y[0:5]"
   ],
   "metadata": {
    "collapsed": false
   }
  },
  {
   "cell_type": "code",
   "execution_count": 3,
   "outputs": [],
   "source": [
    "def find_fft_points(data, name):\n",
    "    (indices_peaks, peaks) = compute_peaks(data)\n",
    "    columns_x=[name + \"X#1\", name + \"X#2\", name + \"X#3\", name + \"X#4\", name + \"X#5\"]\n",
    "    columns_y=[name + \"P#1\", name + \"P#2\", name + \"P#3\", name + \"P#4\", name + \"P#5\"]\n",
    "    x_p = pd.DataFrame(data=indices_peaks).T\n",
    "    x_p.columns = columns_x\n",
    "    y_p = pd.DataFrame(data=peaks).T\n",
    "    y_p.columns = columns_y\n",
    "    tot_p = pd.concat([x_p, y_p], axis=1)\n",
    "    return tot_p"
   ],
   "metadata": {
    "collapsed": false
   }
  },
  {
   "cell_type": "code",
   "execution_count": 4,
   "outputs": [],
   "source": [
    "def compute_time_features(df):\n",
    "    data_total = pd.DataFrame()\n",
    "    for column in df.columns:\n",
    "        temp = find_time_features(df[column], column)\n",
    "        data_total = pd.concat([data_total, temp], axis=1)\n",
    "    return data_total"
   ],
   "metadata": {
    "collapsed": false
   }
  },
  {
   "cell_type": "code",
   "execution_count": 5,
   "outputs": [],
   "source": [
    "def find_time_features(data, name):\n",
    "    columns = [name + \"_mean\", name + \"_std\", name + \"_range\", name + \"_IRQ\"]\n",
    "    properties = [np.mean(data), np.std(data), np.max(data) - np.min(data),\n",
    "                  np.quantile(data, 0.75) - np.quantile(data, 0.25)]\n",
    "    d = pd.DataFrame(data=properties).T\n",
    "    d.columns = columns\n",
    "    return d"
   ],
   "metadata": {
    "collapsed": false
   }
  },
  {
   "cell_type": "code",
   "execution_count": 6,
   "outputs": [],
   "source": [
    "from scipy.signal import savgol_filter\n",
    "\n",
    "def noise_filter(dataframe):\n",
    "    for column in dataframe.columns:\n",
    "        dataframe[column] = savgol_filter(dataframe[column], 10, 2, axis=0)\n",
    "    return dataframe"
   ],
   "metadata": {
    "collapsed": false
   }
  },
  {
   "cell_type": "code",
   "execution_count": 7,
   "outputs": [],
   "source": [
    "def compute_freq_features(df):\n",
    "    data_total = pd.DataFrame()\n",
    "    for column in df.columns:\n",
    "        temp = find_fft_points(df[column], column)\n",
    "        data_total = pd.concat([data_total, temp], axis=1)\n",
    "    return data_total"
   ],
   "metadata": {
    "collapsed": false
   }
  },
  {
   "cell_type": "code",
   "execution_count": 8,
   "outputs": [],
   "source": [
    "def collapse(df):\n",
    "    time_df=compute_time_features(df)\n",
    "    freq_df=compute_freq_features(df)\n",
    "    return pd.concat([time_df, freq_df], axis=1)"
   ],
   "metadata": {
    "collapsed": false
   }
  },
  {
   "cell_type": "code",
   "execution_count": 9,
   "outputs": [],
   "source": [
    "def transform_to_timeseries(dataframe, class_name, sample_number):\n",
    "    i = dataframe.shape[0]//sample_number\n",
    "    j=0\n",
    "    filtered_df=noise_filter(dataframe)\n",
    "    df_time_series=pd.DataFrame()\n",
    "    for count in range(1,i):\n",
    "        samples_df=filtered_df.iloc[j:sample_number*count, :]\n",
    "        new_df=collapse(samples_df)\n",
    "        if(count==1):\n",
    "            df_time_series=new_df\n",
    "        else:\n",
    "            df_time_series = pd.concat([df_time_series, new_df], axis=0)\n",
    "        j=sample_number*count\n",
    "    df_time_series['class']=class_name\n",
    "    return df_time_series"
   ],
   "metadata": {
    "collapsed": false
   }
  },
  {
   "cell_type": "code",
   "execution_count": 10,
   "outputs": [],
   "source": [
    "import struct\n",
    "\n",
    "def recv_msg(sock):\n",
    "    # Read message length and unpack it into an integer\n",
    "    msglen = int(sock.recv(8))\n",
    "    if not msglen:\n",
    "        return None\n",
    "    # Read the message data\n",
    "    return recvall(sock, msglen)\n",
    "\n",
    "def recvall(sock, n):\n",
    "    # Helper function to recv n bytes or return None if EOF is hit\n",
    "    data = bytearray()\n",
    "    while len(data) < n:\n",
    "        packet = sock.recv(n - len(data))\n",
    "        if not packet:\n",
    "            return None\n",
    "        data.extend(packet)\n",
    "    return data"
   ],
   "metadata": {
    "collapsed": false
   }
  },
  {
   "cell_type": "code",
   "execution_count": 16,
   "outputs": [
    {
     "name": "stdout",
     "output_type": "stream",
     "text": [
      "the server is listening at ('0.0.0.0', 1060)\n",
      "31055\n"
     ]
    }
   ],
   "source": [
    "import socket, sys, pandas as pd\n",
    "HOST = ''\n",
    "PORT = 1060\n",
    "ADDR =(HOST,PORT)\n",
    "def server():\n",
    "    s = socket.socket(socket.AF_INET,socket.SOCK_STREAM)\n",
    "    s.setsockopt(socket.SOL_SOCKET,socket.SO_REUSEADDR,1)\n",
    "    s.bind(ADDR)\n",
    "    s.listen(1)\n",
    "    print ('the server is listening at',s.getsockname())\n",
    "    ss,sockname = s.accept()\n",
    "    i=0\n",
    "    #accept the complete message\n",
    "    msg=recv_msg(ss).decode()\n",
    "    samples=msg.split(\"|\")\n",
    "    if len(samples) == 6:\n",
    "        lin_acc_x=list(map(float, samples[0][1:len(samples[0])-1].split(\", \")))\n",
    "        lin_acc_y=list(map(float, samples[1][1:len(samples[1])-1].split(\", \")))\n",
    "        lin_acc_z=list(map(float, samples[2][1:len(samples[2])-1].split(\", \")))\n",
    "        rot_x=list(map(float, samples[3][1:len(samples[3])-1].split(\", \")))\n",
    "        rot_y=list(map(float, samples[4][1:len(samples[4])-1].split(\", \")))\n",
    "        rot_z=list(map(float, samples[5][1:len(samples[5])-1].split(\", \")))\n",
    "        df_len=min([len(lin_acc_x), len(lin_acc_y), len(lin_acc_z), len(rot_x), len(rot_y), len(rot_z)])\n",
    "\n",
    "        df=pd.DataFrame(columns=[\"rotationRate.x\", \"rotationRate.y\", \"rotationRate.z\", \"userAcceleration.x\", \"userAcceleration.y\", \"userAcceleration.z\", \"class\"])\n",
    "        df[\"rotationRate.x\"]=rot_x[100:df_len-100]\n",
    "        df[\"rotationRate.x\"]=df[\"rotationRate.x\"]*2\n",
    "        df[\"rotationRate.y\"]=rot_y[100:df_len-100]\n",
    "        df[\"rotationRate.y\"]=df[\"rotationRate.y\"]*2\n",
    "        df[\"rotationRate.z\"]=rot_z[100:df_len-100]\n",
    "        df[\"rotationRate.z\"]=df[\"rotationRate.z\"]*2\n",
    "        df[\"userAcceleration.x\"]=lin_acc_x[100:df_len-100]\n",
    "        df[\"userAcceleration.x\"]=df[\"userAcceleration.x\"]/5\n",
    "        df[\"userAcceleration.y\"]=lin_acc_y[100:df_len-100]\n",
    "        df[\"userAcceleration.y\"]=df[\"userAcceleration.y\"]/5\n",
    "        df[\"userAcceleration.z\"]=lin_acc_z[100:df_len-100]\n",
    "        df[\"userAcceleration.z\"]=df[\"userAcceleration.z\"]/5\n",
    "        df[\"class\"]=\"upstairs\"\n",
    "        df.to_csv(\"honor20readings/dataset_honor20_upstairs.csv\", index=False)\n",
    "        #df.to_csv(\"honor20readings/dataset_honor20_walking.csv\", mode=\"a\", index=False, header=False)\n",
    "    ss.close()\n",
    "\n",
    "server()\n"
   ],
   "metadata": {
    "collapsed": false
   }
  },
  {
   "cell_type": "code",
   "execution_count": 11,
   "outputs": [],
   "source": [
    "\n"
   ],
   "metadata": {
    "collapsed": false
   }
  }
 ],
 "metadata": {
  "kernelspec": {
   "display_name": "Python 3",
   "language": "python",
   "name": "python3"
  },
  "language_info": {
   "codemirror_mode": {
    "name": "ipython",
    "version": 2
   },
   "file_extension": ".py",
   "mimetype": "text/x-python",
   "name": "python",
   "nbconvert_exporter": "python",
   "pygments_lexer": "ipython2",
   "version": "2.7.6"
  }
 },
 "nbformat": 4,
 "nbformat_minor": 0
}
