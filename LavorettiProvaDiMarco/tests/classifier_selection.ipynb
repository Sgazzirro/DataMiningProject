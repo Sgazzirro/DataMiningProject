{
 "cells": [
  {
   "cell_type": "code",
   "execution_count": 43,
   "outputs": [],
   "source": [
    "import pandas as pd\n",
    "df=pd.read_csv(\"../collapsed_datasets/dataset_peaks_2.csv\").drop(\"Unnamed: 0\", axis=1)\n",
    "X=df.drop(\"class\", axis=1)\n",
    "y=df[\"class\"]"
   ],
   "metadata": {
    "collapsed": false
   }
  },
  {
   "cell_type": "code",
   "execution_count": 44,
   "outputs": [],
   "source": [
    "# in questo notebook andremo a cercare il miglior classificatore\n",
    "\n",
    "from imblearn.pipeline import Pipeline\n",
    "from imblearn.over_sampling import SMOTE\n",
    "from sklearn.feature_selection import SelectKBest\n",
    "from sklearn.preprocessing import RobustScaler\n",
    "from sklearn.neighbors import KNeighborsClassifier\n",
    "from sklearn.model_selection import KFold\n",
    "from sklearn.model_selection import cross_validate\n",
    "from sklearn.metrics import make_scorer, f1_score, recall_score, precision_score, accuracy_score\n",
    "\n",
    "\n",
    "knn_pipe=Pipeline([\n",
    "    (\"scaler\", RobustScaler()),\n",
    "    (\"sampling\", SMOTE()),\n",
    "    (\"feature-selector\", SelectKBest(k=8)),\n",
    "    (\"classifier\", KNeighborsClassifier(n_neighbors=5))\n",
    "])\n",
    "\n",
    "res=cross_validate(knn_pipe, X, y, scoring={\n",
    "    'precision': make_scorer(precision_score, average=\"weighted\"),\n",
    "    'recall': make_scorer(recall_score, average=\"weighted\"),\n",
    "    'f1score':make_scorer(f1_score, average=\"weighted\")\n",
    "}, cv=KFold(5, shuffle=True))\n",
    "\n",
    "knn_results={'precision': res['test_precision'].mean(), 'recall': res[\"test_recall\"].mean(), \"f1\":res['test_f1score'].mean()}"
   ],
   "metadata": {
    "collapsed": false
   }
  },
  {
   "cell_type": "code",
   "execution_count": 45,
   "outputs": [
    {
     "name": "stdout",
     "output_type": "stream",
     "text": [
      "{'precision': 0.8199816014279977, 'recall': 0.8004424537172785, 'f1': 0.7988226979464546}\n"
     ]
    }
   ],
   "source": [
    "from sklearn.svm import SVC\n",
    "SVC_pipe=Pipeline([\n",
    "    (\"scaler\", RobustScaler()),\n",
    "    (\"sampling\", SMOTE()),\n",
    "    (\"feature-selector\", SelectKBest(k=8)),\n",
    "    (\"classifier\", SVC())\n",
    "])\n",
    "\n",
    "res=cross_validate(SVC_pipe, X, y, scoring={\n",
    "    'precision': make_scorer(precision_score, average=\"weighted\"),\n",
    "    'recall': make_scorer(recall_score, average=\"weighted\"),\n",
    "    'f1score':make_scorer(f1_score, average=\"weighted\")\n",
    "}, cv=KFold(5, shuffle=True))\n",
    "\n",
    "SVC_results={'precision': res['test_precision'].mean(), 'recall': res[\"test_recall\"].mean(), \"f1\":res['test_f1score'].mean()}\n",
    "\n",
    "print(SVC_results)"
   ],
   "metadata": {
    "collapsed": false
   }
  },
  {
   "cell_type": "code",
   "execution_count": 46,
   "outputs": [
    {
     "name": "stdout",
     "output_type": "stream",
     "text": [
      "{'precision': 0.8643370231547859, 'recall': 0.8622043820713226, 'f1': 0.8629648011320696}\n"
     ]
    }
   ],
   "source": [
    "from sklearn.tree import DecisionTreeClassifier\n",
    "tree_pipe=Pipeline([\n",
    "    (\"scaler\", RobustScaler()),\n",
    "    (\"sampling\", SMOTE()),\n",
    "    (\"feature-selector\", SelectKBest(k=8)),\n",
    "    (\"classifier\", DecisionTreeClassifier())\n",
    "])\n",
    "\n",
    "res=cross_validate(tree_pipe, X, y, scoring={\n",
    "    'precision': make_scorer(precision_score, average=\"weighted\"),\n",
    "    'recall': make_scorer(recall_score, average=\"weighted\"),\n",
    "    'f1score':make_scorer(f1_score, average=\"weighted\")\n",
    "}, cv=KFold(5, shuffle=True))\n",
    "\n",
    "tree_results={'precision': res['test_precision'].mean(), 'recall': res[\"test_recall\"].mean(), \"f1\":res['test_f1score'].mean()}\n",
    "\n",
    "print(tree_results)"
   ],
   "metadata": {
    "collapsed": false
   }
  },
  {
   "cell_type": "code",
   "execution_count": 51,
   "outputs": [
    {
     "name": "stdout",
     "output_type": "stream",
     "text": [
      "{'precision': 0.9049636372571159, 'recall': 0.9036435699624885, 'f1': 0.9038657772282763}\n",
      "0.9052514079451586\n"
     ]
    }
   ],
   "source": [
    "from sklearn.ensemble import RandomForestClassifier\n",
    "from sklearn.model_selection import cross_val_score\n",
    "ranfor_pipe=Pipeline([\n",
    "    (\"scaler\", RobustScaler()),\n",
    "    (\"sampling\", SMOTE()),\n",
    "    (\"feature-selector\", SelectKBest(k=8)),\n",
    "    (\"classifier\", RandomForestClassifier())\n",
    "])\n",
    "\n",
    "res=cross_validate(ranfor_pipe, X, y, scoring={\n",
    "    'precision': make_scorer(precision_score, average=\"weighted\"),\n",
    "    'recall': make_scorer(recall_score, average=\"weighted\"),\n",
    "    'f1score':make_scorer(f1_score, average=\"weighted\"),\n",
    "    'accuracy':make_scorer(accuracy_score)\n",
    "}, cv=KFold(5, shuffle=True, random_state=12))\n",
    "\n",
    "ranfor_results={'precision': res['test_precision'].mean(), 'recall': res[\"test_recall\"].mean(), \"f1\":res['test_f1score'].mean()}\n",
    "\n",
    "print(ranfor_results)\n"
   ],
   "metadata": {
    "collapsed": false
   }
  },
  {
   "cell_type": "code",
   "execution_count": 48,
   "outputs": [
    {
     "name": "stdout",
     "output_type": "stream",
     "text": [
      "{'precision': 0.8304387695602482, 'recall': 0.8157303620719292, 'f1': 0.8161464728640526}\n"
     ]
    }
   ],
   "source": [
    "from sklearn.linear_model import LogisticRegression\n",
    "logregr_pipe=Pipeline([\n",
    "    (\"scaler\", RobustScaler()),\n",
    "    (\"sampling\", SMOTE()),\n",
    "    (\"feature-selector\", SelectKBest(k=8)),\n",
    "    (\"classifier\", LogisticRegression(max_iter=1000))\n",
    "])\n",
    "\n",
    "res=cross_validate(logregr_pipe, X, y, scoring={\n",
    "    'precision': make_scorer(precision_score, average=\"weighted\"),\n",
    "    'recall': make_scorer(recall_score, average=\"weighted\"),\n",
    "    'f1score':make_scorer(f1_score, average=\"weighted\")\n",
    "}, cv=KFold(5, shuffle=True))\n",
    "\n",
    "logregr_results={'precision': res['test_precision'].mean(), 'recall': res[\"test_recall\"].mean(), \"f1\":res['test_f1score'].mean()}\n",
    "\n",
    "print(logregr_results)"
   ],
   "metadata": {
    "collapsed": false
   }
  },
  {
   "cell_type": "code",
   "execution_count": 49,
   "outputs": [
    {
     "name": "stdout",
     "output_type": "stream",
     "text": [
      "{'precision': 0.7265236363276013, 'recall': 0.6680731625936523, 'f1': 0.6658229191276066}\n"
     ]
    }
   ],
   "source": [
    "from sklearn.naive_bayes import GaussianNB\n",
    "nb_pipe=Pipeline([\n",
    "    (\"scaler\", RobustScaler()),\n",
    "    (\"sampling\", SMOTE()),\n",
    "    (\"feature-selector\", SelectKBest(k=8)),\n",
    "    (\"classifier\", GaussianNB())\n",
    "])\n",
    "\n",
    "res=cross_validate(nb_pipe, X, y, scoring={\n",
    "    'precision': make_scorer(precision_score, average=\"weighted\"),\n",
    "    'recall': make_scorer(recall_score, average=\"weighted\"),\n",
    "    'f1score':make_scorer(f1_score, average=\"weighted\")\n",
    "}, cv=KFold(5, shuffle=True))\n",
    "\n",
    "nb_results={'precision': res['test_precision'].mean(), 'recall': res[\"test_recall\"].mean(), \"f1\":res['test_f1score'].mean()}\n",
    "\n",
    "print(nb_results)"
   ],
   "metadata": {
    "collapsed": false
   }
  },
  {
   "cell_type": "code",
   "execution_count": 50,
   "outputs": [
    {
     "name": "stdout",
     "output_type": "stream",
     "text": [
      "dict_keys(['precision', 'recall', 'f1'])\n"
     ]
    },
    {
     "data": {
      "text/plain": "<BarContainer object of 3 artists>"
     },
     "execution_count": 50,
     "metadata": {},
     "output_type": "execute_result"
    },
    {
     "data": {
      "text/plain": "<Figure size 2000x1000 with 6 Axes>",
      "image/png": "[encoded data removed]"
     },
     "metadata": {},
     "output_type": "display_data"
    }
   ],
   "source": [
    "from matplotlib import pyplot as plt\n",
    "f,axes=plt.subplots(2,3,figsize=(20,10), sharey=True)\n",
    "print(knn_results.keys())\n",
    "axes[0][0].bar(knn_results.keys(), knn_results.values())\n",
    "axes[0][1].bar(SVC_results.keys(), SVC_results.values())\n",
    "axes[0][2].bar(ranfor_results.keys(), ranfor_results.values())\n",
    "axes[1][0].bar(nb_results.keys(), nb_results.values())\n",
    "axes[1][1].bar(tree_results.keys(), tree_results.values())\n",
    "axes[1][2].bar(logregr_results.keys(), logregr_results.values())"
   ],
   "metadata": {
    "collapsed": false
   }
  },
  {
   "cell_type": "code",
   "execution_count": null,
   "outputs": [],
   "source": [
    "# SIAMO 2 MONGOLI CI SIAMO SCORDATI DI RIMUOVERE LE FEATURES DEL CAZZO, ECCO PERCHè HA STA ACCURACY DI MERDA!!!!!"
   ],
   "metadata": {
    "collapsed": false
   }
  }
 ],
 "metadata": {
  "kernelspec": {
   "display_name": "Python 3",
   "language": "python",
   "name": "python3"
  },
  "language_info": {
   "codemirror_mode": {
    "name": "ipython",
    "version": 2
   },
   "file_extension": ".py",
   "mimetype": "text/x-python",
   "name": "python",
   "nbconvert_exporter": "python",
   "pygments_lexer": "ipython2",
   "version": "2.7.6"
  }
 },
 "nbformat": 4,
 "nbformat_minor": 0
}
