{
 "cells": [
  {
   "cell_type": "code",
   "execution_count": 8,
   "outputs": [],
   "source": [
    "import socket, pandas as pd\n",
    "from ipynb.fs.full.df_collapser import collapse"
   ],
   "metadata": {
    "collapsed": false
   }
  },
  {
   "cell_type": "code",
   "execution_count": 2,
   "outputs": [],
   "source": [
    "def recv_msg(sock):\n",
    "    # Read message length and unpack it into an integer\n",
    "    msglen = int(sock.recv(8))\n",
    "    if not msglen:\n",
    "        return None\n",
    "    # Read the message data\n",
    "    return recvall(sock, msglen)\n",
    "\n",
    "def recvall(sock, n):\n",
    "    # Helper function to recv n bytes or return None if EOF is hit\n",
    "    data = bytearray()\n",
    "    while len(data) < n:\n",
    "        packet = sock.recv(n - len(data))\n",
    "        if not packet:\n",
    "            return None\n",
    "        data.extend(packet)\n",
    "    return data"
   ],
   "metadata": {
    "collapsed": false
   }
  },
  {
   "cell_type": "code",
   "execution_count": 3,
   "outputs": [],
   "source": [
    "def dataframe_from_string(string):\n",
    "    samples=string.split(\"|\")\n",
    "    if len(samples) == 6:\n",
    "        lin_acc_x=list(map(float, samples[0][1:len(samples[0])-1].split(\", \")))\n",
    "        lin_acc_y=list(map(float, samples[1][1:len(samples[1])-1].split(\", \")))\n",
    "        lin_acc_z=list(map(float, samples[2][1:len(samples[2])-1].split(\", \")))\n",
    "        rot_x=list(map(float, samples[3][1:len(samples[3])-1].split(\", \")))\n",
    "        rot_y=list(map(float, samples[4][1:len(samples[4])-1].split(\", \")))\n",
    "        rot_z=list(map(float, samples[5][1:len(samples[5])-1].split(\", \")))\n",
    "        df_len=min([len(lin_acc_x), len(lin_acc_y), len(lin_acc_z), len(rot_x), len(rot_y), len(rot_z)])\n",
    "\n",
    "        df=pd.DataFrame(columns=[\"rotationRate.x\", \"rotationRate.y\", \"rotationRate.z\", \"userAcceleration.x\", \"userAcceleration.y\", \"userAcceleration.z\"])\n",
    "        df[\"rotationRate.x\"]=rot_x[0:df_len]\n",
    "        df[\"rotationRate.x\"]=df[\"rotationRate.x\"]*2\n",
    "        df[\"rotationRate.y\"]=rot_y[0:df_len]\n",
    "        df[\"rotationRate.y\"]=df[\"rotationRate.y\"]*2\n",
    "        df[\"rotationRate.z\"]=rot_z[0:df_len]\n",
    "        df[\"rotationRate.z\"]=df[\"rotationRate.z\"]*2\n",
    "        df[\"userAcceleration.x\"]=lin_acc_x[0:df_len]\n",
    "        df[\"userAcceleration.x\"]=df[\"userAcceleration.x\"]/5\n",
    "        df[\"userAcceleration.y\"]=lin_acc_y[0:df_len]\n",
    "        df[\"userAcceleration.y\"]=df[\"userAcceleration.y\"]/5\n",
    "        df[\"userAcceleration.z\"]=lin_acc_z[0:df_len]\n",
    "        df[\"userAcceleration.z\"]=df[\"userAcceleration.z\"]/5\n",
    "        return df"
   ],
   "metadata": {
    "collapsed": false
   }
  },
  {
   "cell_type": "code",
   "execution_count": 4,
   "outputs": [],
   "source": [
    "HOST = ''\n",
    "PORT = 1060\n",
    "\n",
    "# the function expects that each n seconds the phone passes all the readings coming from the sensors\n",
    "# into a string\n",
    "\n",
    "def phone_comm(host, port, pipeline):\n",
    "\n",
    "    s = socket.socket(socket.AF_INET,socket.SOCK_STREAM)\n",
    "    s.setsockopt(socket.SOL_SOCKET,socket.SO_REUSEADDR,1)\n",
    "    addr=(host, port)\n",
    "    s.bind(addr)\n",
    "    s.listen(1)\n",
    "    print ('the server is listening at',s.getsockname())\n",
    "    ss,sockname = s.accept()\n",
    "    while True:\n",
    "        #accept the complete message\n",
    "        msg=recv_msg(ss).decode()\n",
    "        # obtain the dataframe from the string\n",
    "        df=dataframe_from_string(msg)\n",
    "        # collapse the dataset into windows\n",
    "        windowed_df=collapse(df)\n",
    "        # predict the activity from the collapsed df\n",
    "        prediction=pipeline.predict(windowed_df)\n",
    "        # print the prediction\n",
    "        print(prediction)\n",
    "\n",
    "    ss.close()"
   ],
   "metadata": {
    "collapsed": false
   }
  }
 ],
 "metadata": {
  "kernelspec": {
   "display_name": "Python 3",
   "language": "python",
   "name": "python3"
  },
  "language_info": {
   "codemirror_mode": {
    "name": "ipython",
    "version": 2
   },
   "file_extension": ".py",
   "mimetype": "text/x-python",
   "name": "python",
   "nbconvert_exporter": "python",
   "pygments_lexer": "ipython2",
   "version": "2.7.6"
  }
 },
 "nbformat": 4,
 "nbformat_minor": 0
}
