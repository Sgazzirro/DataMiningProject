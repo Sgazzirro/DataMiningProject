{
 "cells": [
  {
   "cell_type": "code",
   "execution_count": 1,
   "metadata": {
    "collapsed": true
   },
   "outputs": [],
   "source": [
    "import numpy as np\n",
    "import pandas as pd"
   ]
  },
  {
   "cell_type": "code",
   "execution_count": 2,
   "outputs": [],
   "source": [
    "from numpy.fft import fft\n",
    "import detecta\n",
    "def compute_peaks(data):\n",
    "    X=fft(data)\n",
    "    N=len(X)\n",
    "    n=np.arange(N)\n",
    "    sr=1/50\n",
    "    T=N/sr\n",
    "    freq=n/T\n",
    "    c=20\n",
    "\n",
    "    n_oneside=N//2\n",
    "    x=freq[1:n_oneside]\n",
    "    y=np.abs(X[1:n_oneside])\n",
    "\n",
    "    max_peak_height=np.amax(y)/c\n",
    "    peaks=[]\n",
    "    while len(peaks)<5:\n",
    "        peaks=detecta.detect_peaks(y, mph=max_peak_height)\n",
    "        c+=5\n",
    "        max_peak_height=np.amax(y)/c\n",
    "    peaks_x=peaks/T\n",
    "    peaks_y=y[peaks]\n",
    "\n",
    "    return peaks_x[0:5], peaks_y[0:5]"
   ],
   "metadata": {
    "collapsed": false
   }
  },
  {
   "cell_type": "code",
   "execution_count": 3,
   "outputs": [],
   "source": [
    "def find_fft_points(data, name):\n",
    "    print(name)\n",
    "    (indices_peaks, peaks) = compute_peaks(data)\n",
    "    columns_x=[name + \"X#1\", name + \"X#2\", name + \"X#3\", name + \"X#4\", name + \"X#5\"]\n",
    "    columns_y=[name + \"P#1\", name + \"P#2\", name + \"P#3\", name + \"P#4\", name + \"P#5\"]\n",
    "    x_p = pd.DataFrame(data=indices_peaks).T\n",
    "    x_p.columns = columns_x\n",
    "    y_p = pd.DataFrame(data=peaks).T\n",
    "    y_p.columns = columns_y\n",
    "    tot_p = pd.concat([x_p, y_p], axis=1)\n",
    "    return tot_p"
   ],
   "metadata": {
    "collapsed": false
   }
  },
  {
   "cell_type": "code",
   "execution_count": 4,
   "outputs": [],
   "source": [
    "def compute_time_features(df):\n",
    "    data_total = pd.DataFrame()\n",
    "    for column in df.columns:\n",
    "        temp = find_time_features(df[column], column)\n",
    "        data_total = pd.concat([data_total, temp], axis=1)\n",
    "    return data_total"
   ],
   "metadata": {
    "collapsed": false
   }
  },
  {
   "cell_type": "code",
   "execution_count": 5,
   "outputs": [],
   "source": [
    "def find_time_features(data, name):\n",
    "    columns = [name + \"_mean\", name + \"_std\", name + \"_range\", name + \"_IRQ\"]\n",
    "    properties = [np.mean(data), np.std(data), np.max(data) - np.min(data),\n",
    "                  np.quantile(data, 0.75) - np.quantile(data, 0.25)]\n",
    "    d = pd.DataFrame(data=properties).T\n",
    "    d.columns = columns\n",
    "    return d"
   ],
   "metadata": {
    "collapsed": false
   }
  },
  {
   "cell_type": "code",
   "execution_count": 7,
   "outputs": [],
   "source": [
    "def compute_freq_features(df):\n",
    "    data_total = pd.DataFrame()\n",
    "    for column in df.columns:\n",
    "        temp = find_fft_points(df[column], column)\n",
    "        data_total = pd.concat([data_total, temp], axis=1)\n",
    "    return data_total"
   ],
   "metadata": {
    "collapsed": false
   }
  },
  {
   "cell_type": "code",
   "execution_count": 8,
   "outputs": [],
   "source": [
    "def collapse(df):\n",
    "    time_df=compute_time_features(df)\n",
    "    freq_df=compute_freq_features(df)\n",
    "    return pd.concat([time_df, freq_df], axis=1)"
   ],
   "metadata": {
    "collapsed": false
   }
  }
 ],
 "metadata": {
  "kernelspec": {
   "display_name": "Python 3",
   "language": "python",
   "name": "python3"
  },
  "language_info": {
   "codemirror_mode": {
    "name": "ipython",
    "version": 2
   },
   "file_extension": ".py",
   "mimetype": "text/x-python",
   "name": "python",
   "nbconvert_exporter": "python",
   "pygments_lexer": "ipython2",
   "version": "2.7.6"
  }
 },
 "nbformat": 4,
 "nbformat_minor": 0
}
