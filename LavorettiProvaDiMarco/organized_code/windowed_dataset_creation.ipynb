{
 "cells": [
  {
   "cell_type": "code",
   "execution_count": null,
   "metadata": {
    "collapsed": true
   },
   "outputs": [],
   "source": [
    "from ipynb.fs.full.df_collapser import collapse\n",
    "import pandas as pd\n",
    "import glob"
   ]
  },
  {
   "cell_type": "code",
   "execution_count": null,
   "outputs": [],
   "source": [
    "from scipy.signal import savgol_filter\n",
    "\n",
    "def noise_filter(dataframe):\n",
    "    for column in dataframe.columns:\n",
    "        dataframe[column] = savgol_filter(dataframe[column], 10, 2, axis=0)\n",
    "    return dataframe"
   ],
   "metadata": {
    "collapsed": false
   }
  },
  {
   "cell_type": "code",
   "execution_count": null,
   "outputs": [],
   "source": [
    "def transform_to_timeseries(dataframe, class_name, sample_number):\n",
    "    i = dataframe.shape[0]//sample_number\n",
    "    j=0\n",
    "    filtered_df=noise_filter(dataframe)\n",
    "    df_time_series=pd.DataFrame()\n",
    "    for count in range(1,i):\n",
    "        print(j)\n",
    "        print(sample_number*count)\n",
    "        samples_df=filtered_df.iloc[j:sample_number*count, :]\n",
    "        new_df=collapse(samples_df)\n",
    "        if(count==1):\n",
    "            df_time_series=new_df\n",
    "        else:\n",
    "            df_time_series = pd.concat([df_time_series, new_df], axis=0)\n",
    "        j=sample_number*count\n",
    "    df_time_series['class']=class_name\n",
    "    return df_time_series"
   ],
   "metadata": {
    "collapsed": false
   }
  },
  {
   "cell_type": "code",
   "execution_count": null,
   "outputs": [],
   "source": [
    "def produce_windowed_dataset_csv(secs):\n",
    "    frequency=50\n",
    "    sample_number=secs*frequency\n",
    "    all_folders=glob.glob('A_DeviceMotion_data/*', recursive=True)\n",
    "    all_data=[]\n",
    "    class_dict={\"dws\":\"downstairs\", \"jog\": \"jogging\", \"sit\":\"sit\", \"std\":\"standing\", \"ups\":\"upstairs\", \"wlk\":\"walking\"}\n",
    "    for folder in all_folders:\n",
    "        all_files=glob.glob(folder+\"/*\", recursive=True)\n",
    "        class_name=folder.split('\\\\')[1].split('_')[0]\n",
    "        for file in all_files:\n",
    "            df=pd.read_csv(file, index_col=0)\n",
    "            # Drop not - measurable columns\n",
    "            df_clean = df.drop([\"attitude.roll\", \"attitude.pitch\", \"attitude.yaw\", \"gravity.y\", \"gravity.x\", \"gravity.z\"], axis=1)\n",
    "            temp_df = transform_to_timeseries(df_clean, class_dict[class_name], sample_number)\n",
    "            all_data.append(temp_df)\n",
    "\n",
    "    df=pd.concat(all_data, axis=0, ignore_index=True)\n",
    "    df.to_csv(\"windowed_DeviceMotion_dataset.csv\")"
   ],
   "metadata": {
    "collapsed": false
   }
  },
  {
   "cell_type": "code",
   "execution_count": null,
   "outputs": [],
   "source": [
    "def produce_windowed_phone_dataset_csv(secs):\n",
    "    frequency=50\n",
    "    sample_number=frequency*secs\n",
    "    all_data=[]\n",
    "    all_files=glob.glob(\"honor20readings/*\", recursive=True)\n",
    "    for file in all_files:\n",
    "        df=pd.read_csv(file)\n",
    "        class_name=df.iloc[0][\"class\"]\n",
    "        df=df.drop(\"class\", axis=1)\n",
    "        temp_df = transform_to_timeseries(df, class_name, sample_number)\n",
    "        all_data.append(temp_df)\n",
    "\n",
    "    df=pd.concat(all_data, axis=0, ignore_index=True)\n",
    "    df.to_csv(\"dataset_peaks_honor_3sec.csv\")"
   ],
   "metadata": {
    "collapsed": false
   }
  }
 ],
 "metadata": {
  "kernelspec": {
   "display_name": "Python 3",
   "language": "python",
   "name": "python3"
  },
  "language_info": {
   "codemirror_mode": {
    "name": "ipython",
    "version": 2
   },
   "file_extension": ".py",
   "mimetype": "text/x-python",
   "name": "python",
   "nbconvert_exporter": "python",
   "pygments_lexer": "ipython2",
   "version": "2.7.6"
  }
 },
 "nbformat": 4,
 "nbformat_minor": 0
}
