{
 "cells": [
  {
   "cell_type": "code",
   "execution_count": 8,
   "metadata": {
    "collapsed": true
   },
   "outputs": [],
   "source": [
    "import pandas as pd\n",
    "from matplotlib import pyplot as pt\n"
   ]
  },
  {
   "cell_type": "code",
   "execution_count": 9,
   "outputs": [
    {
     "data": {
      "text/plain": "standing    33\nwalking     24\njogging     16\nsitting     14\nName: class, dtype: int64"
     },
     "execution_count": 9,
     "metadata": {},
     "output_type": "execute_result"
    }
   ],
   "source": [
    "df=pd.read_csv(\"dataset_peaks_honor.csv\")\n",
    "df[\"class\"].value_counts()"
   ],
   "metadata": {
    "collapsed": false
   }
  },
  {
   "cell_type": "code",
   "execution_count": 9,
   "outputs": [],
   "source": [],
   "metadata": {
    "collapsed": false
   }
  },
  {
   "cell_type": "code",
   "execution_count": 10,
   "outputs": [
    {
     "name": "stdout",
     "output_type": "stream",
     "text": [
      "[0.83333333 1.         0.76470588 1.         1.        ]\n"
     ]
    }
   ],
   "source": [
    "from imblearn.pipeline import Pipeline\n",
    "from imblearn.over_sampling import SMOTE\n",
    "from sklearn.neighbors import KNeighborsClassifier\n",
    "from sklearn.ensemble import RandomForestClassifier\n",
    "from sklearn.preprocessing import StandardScaler\n",
    "from sklearn.model_selection import cross_val_score\n",
    "from sklearn.feature_selection import SelectKBest\n",
    "estimators = [('scaling', StandardScaler()),\n",
    "            ('sampling', SMOTE()),\n",
    "            ('feature-selection',SelectKBest(k=20)),\n",
    "            ('clf', KNeighborsClassifier(n_neighbors=5))]\n",
    "\n",
    "pipe=Pipeline(estimators)\n",
    "\n",
    "results=cross_val_score(pipe, df.drop('class', axis=1), df['class'])\n",
    "print(results)\n"
   ],
   "metadata": {
    "collapsed": false
   }
  },
  {
   "cell_type": "code",
   "execution_count": 12,
   "outputs": [
    {
     "name": "stdout",
     "output_type": "stream",
     "text": [
      "[0.83333333 1.         0.76470588 1.         1.        ]\n",
      "[1.         1.         1.         1.         0.88888889 0.88888889\n",
      " 1.         1.         1.         1.        ]\n",
      "[1.         1.         1.         1.         0.84126984 0.8962963\n",
      " 1.         1.         1.         1.        ]\n"
     ]
    }
   ],
   "source": [
    "from imblearn.pipeline import Pipeline\n",
    "from imblearn.over_sampling import SMOTE\n",
    "from sklearn.neighbors import KNeighborsClassifier\n",
    "from sklearn.ensemble import RandomForestClassifier\n",
    "from sklearn.preprocessing import StandardScaler\n",
    "from sklearn.model_selection import cross_val_score, cross_validate, StratifiedKFold\n",
    "from sklearn.feature_selection import SelectKBest\n",
    "from sklearn.metrics import make_scorer, accuracy_score, f1_score\n",
    "estimators = [('scaling', StandardScaler()),\n",
    "              ('sampling', SMOTE()),\n",
    "              ('feature-selection',SelectKBest(k=20)),\n",
    "              ('clf', KNeighborsClassifier(n_neighbors=5))]\n",
    "\n",
    "pipe=Pipeline(estimators)\n",
    "\n",
    "results=cross_val_score(pipe, df.drop('class', axis=1), df['class'])\n",
    "X = df.drop('class', axis=1)\n",
    "y = df['class']\n",
    "results2 = cross_validate(\n",
    "    pipe,\n",
    "    X,\n",
    "    y,\n",
    "    scoring={\n",
    "        \"accuracy\" : make_scorer(accuracy_score),\n",
    "        \"f1_score\" : make_scorer(f1_score, average=\"weighted\")\n",
    "    },cv = StratifiedKFold(shuffle=True, n_splits=10),\n",
    "    return_estimator=True\n",
    ")\n",
    "print(results)\n",
    "print(results2[\"test_accuracy\"])\n",
    "print(results2[\"test_f1_score\"])"
   ],
   "metadata": {
    "collapsed": false
   }
  }
 ],
 "metadata": {
  "kernelspec": {
   "display_name": "Python 3",
   "language": "python",
   "name": "python3"
  },
  "language_info": {
   "codemirror_mode": {
    "name": "ipython",
    "version": 2
   },
   "file_extension": ".py",
   "mimetype": "text/x-python",
   "name": "python",
   "nbconvert_exporter": "python",
   "pygments_lexer": "ipython2",
   "version": "2.7.6"
  }
 },
 "nbformat": 4,
 "nbformat_minor": 0
}
