{
 "cells": [
  {
   "cell_type": "code",
   "execution_count": 8,
   "metadata": {
    "collapsed": true
   },
   "outputs": [],
   "source": [
    "# Con questa cella qualsiasi file .py dentro creation_functions puà essere importato\n",
    "import sys\n",
    "\n",
    "import pandas as pd\n",
    "\n",
    "sys.path.append(\"creation_functions\")"
   ]
  },
  {
   "cell_type": "code",
   "execution_count": 9,
   "outputs": [],
   "source": [
    "# Ad esempio, posso importare la funzione \"create_time_series\"\n",
    "# SINTASSI : from creation_functions.<nomeFile.py> import <nomeFunzione>\n",
    "from creation_functions.utilities import preprocessing"
   ],
   "metadata": {
    "collapsed": false
   }
  },
  {
   "cell_type": "markdown",
   "source": [
    "#### Descrizione per Marco del file utilities.py e feature_extraction.py\n",
    "in utilities.py troverai due funzioni:\n",
    "- _create_time_series_ fa tutto il merge e restituisce il dataset con delle colonne carine \"subject\" e \"trial\" per identificare attori e tentativo. Se la chiami senza argomenti restituisce il dataset collassato, se la chiami con mode=\"raw\" restituisce il dataset originale (appunto con quelle colonne in più)\n",
    "- _get_some_filter_ è una funzione per filtrare il dataset, che sia collassato o meno, sulla base di attori è attività. Prende come argomento il dataset, una lista di attori e una lista di attività, e restituisce i dati di solo quegli attori e solo quelle attività\n",
    "- _preprocessing(dataframe)_ restituisce il dataset preprocessato pulito e con le feature ridondanti eliminate. Come input gli va dato in sostanza il risultato di _create_time_series_, per cui puoi prendere anche il csv collapsed_dataset.csv e mandare quello come input\n",
    "\n",
    "In feature_extraction.py troverai tutte le funzioni necessarie alla creazione del dataset collassato"
   ],
   "metadata": {
    "collapsed": false
   }
  },
  {
   "cell_type": "code",
   "execution_count": 5,
   "outputs": [],
   "source": [
    "# Giusto un test\n",
    "import pandas as pd\n",
    "df = pd.read_csv(\"collapsed_dataset.csv\", index_col=0)"
   ],
   "metadata": {
    "collapsed": false
   }
  },
  {
   "cell_type": "code",
   "execution_count": 6,
   "outputs": [
    {
     "data": {
      "text/plain": "    rotationRate.x_mean  rotationRate.x_std  rotationRate.x_range  \\\n0             -0.598261            1.035781              4.233415   \n0             -0.097542            0.911372              4.092728   \n0             -0.487880            0.978326              3.449292   \n0             -0.230015            0.801757              3.117364   \n0             -0.329812            0.915968              3.936913   \n..                  ...                 ...                   ...   \n0              0.167426            0.820002              3.218270   \n0              0.126343            0.864684              3.296552   \n0              0.115019            0.826878              2.920672   \n0              0.173352            1.017701              3.742444   \n0              0.148138            0.878020              3.440233   \n\n    rotationRate.x_IRQ  rotationRate.x_kurtosis  rotationRate.x_skewness  \\\n0             1.694033                -0.956685                -0.026229   \n0             1.277495                -0.304429                -0.495648   \n0             1.656486                -1.154190                -0.245725   \n0             1.283280                -1.001235                -0.049592   \n0             1.330359                -0.442254                -0.571874   \n..                 ...                      ...                      ...   \n0             1.132992                -0.277282                -0.712709   \n0             1.340263                -0.396475                -0.779987   \n0             1.411312                -0.870169                -0.638618   \n0             1.614026                -0.978921                -0.555987   \n0             1.376481                -0.429483                -0.817258   \n\n    rotationRate.y_mean  rotationRate.y_std  rotationRate.y_range  \\\n0             -0.605087            1.396446              7.230130   \n0             -0.277137            2.013441              9.061658   \n0             -0.365722            1.684748              7.731247   \n0             -0.205252            1.701594              8.058310   \n0             -0.214969            1.872646              8.499392   \n..                  ...                 ...                   ...   \n0              0.100111            1.767713              6.997537   \n0              0.160952            1.712438              6.762558   \n0              0.099231            1.625297              5.384678   \n0              0.086624            1.684937              5.718094   \n0              0.155054            1.683638              6.281771   \n\n    rotationRate.y_IRQ  ...  userAcceleration.zX#4  userAcceleration.zX#5  \\\n0             1.424294  ...               0.001733               0.002000   \n0             2.576537  ...               0.002133               0.002533   \n0             1.979464  ...               0.001867               0.002267   \n0             1.863078  ...               0.001333               0.001600   \n0             1.856482  ...               0.001600               0.001867   \n..                 ...  ...                    ...                    ...   \n0             3.079349  ...               0.001467               0.001867   \n0             2.952453  ...               0.001467               0.001867   \n0             2.896010  ...               0.001467               0.001867   \n0             2.846144  ...               0.001467               0.001867   \n0             3.204978  ...               0.001467               0.001867   \n\n    userAcceleration.zP#1  userAcceleration.zP#2  userAcceleration.zP#3  \\\n0               13.700572              10.224221              10.358839   \n0                5.850030              11.432027               6.780674   \n0                4.412037              13.431157               9.487825   \n0                5.226085               5.735624               9.180742   \n0                6.868747              20.724819               3.935775   \n..                    ...                    ...                    ...   \n0                8.432027              23.248258              16.387223   \n0                2.744796              28.087900              19.125783   \n0                4.545763              23.301324              14.934430   \n0                8.853651              22.491873              10.427867   \n0                6.513359              25.686275              15.784124   \n\n    userAcceleration.zP#4  userAcceleration.zP#5  class  subject  trial  \n0                6.709421               4.084380    dws        1      1  \n0                2.345534               3.073217    dws        1      1  \n0                6.022618               2.581206    dws        1      1  \n0                3.292413               3.253893    dws        1      1  \n0                6.981037               4.640950    dws        1      1  \n..                    ...                    ...    ...      ...    ...  \n0               17.326343              14.355209    wlk       24     15  \n0               22.283682              15.586845    wlk       24     15  \n0               15.267009              13.367485    wlk       24     15  \n0               15.859912              12.952285    wlk       24     15  \n0               19.508589              15.225755    wlk       24     15  \n\n[8882 rows x 99 columns]",
      "text/html": "<div>\n<style scoped>\n    .dataframe tbody tr th:only-of-type {\n        vertical-align: middle;\n    }\n\n    .dataframe tbody tr th {\n        vertical-align: top;\n    }\n\n    .dataframe thead th {\n        text-align: right;\n    }\n</style>\n<table border=\"1\" class=\"dataframe\">\n  <thead>\n    <tr style=\"text-align: right;\">\n      <th></th>\n      <th>rotationRate.x_mean</th>\n      <th>rotationRate.x_std</th>\n      <th>rotationRate.x_range</th>\n      <th>rotationRate.x_IRQ</th>\n      <th>rotationRate.x_kurtosis</th>\n      <th>rotationRate.x_skewness</th>\n      <th>rotationRate.y_mean</th>\n      <th>rotationRate.y_std</th>\n      <th>rotationRate.y_range</th>\n      <th>rotationRate.y_IRQ</th>\n      <th>...</th>\n      <th>userAcceleration.zX#4</th>\n      <th>userAcceleration.zX#5</th>\n      <th>userAcceleration.zP#1</th>\n      <th>userAcceleration.zP#2</th>\n      <th>userAcceleration.zP#3</th>\n      <th>userAcceleration.zP#4</th>\n      <th>userAcceleration.zP#5</th>\n      <th>class</th>\n      <th>subject</th>\n      <th>trial</th>\n    </tr>\n  </thead>\n  <tbody>\n    <tr>\n      <th>0</th>\n      <td>-0.598261</td>\n      <td>1.035781</td>\n      <td>4.233415</td>\n      <td>1.694033</td>\n      <td>-0.956685</td>\n      <td>-0.026229</td>\n      <td>-0.605087</td>\n      <td>1.396446</td>\n      <td>7.230130</td>\n      <td>1.424294</td>\n      <td>...</td>\n      <td>0.001733</td>\n      <td>0.002000</td>\n      <td>13.700572</td>\n      <td>10.224221</td>\n      <td>10.358839</td>\n      <td>6.709421</td>\n      <td>4.084380</td>\n      <td>dws</td>\n      <td>1</td>\n      <td>1</td>\n    </tr>\n    <tr>\n      <th>0</th>\n      <td>-0.097542</td>\n      <td>0.911372</td>\n      <td>4.092728</td>\n      <td>1.277495</td>\n      <td>-0.304429</td>\n      <td>-0.495648</td>\n      <td>-0.277137</td>\n      <td>2.013441</td>\n      <td>9.061658</td>\n      <td>2.576537</td>\n      <td>...</td>\n      <td>0.002133</td>\n      <td>0.002533</td>\n      <td>5.850030</td>\n      <td>11.432027</td>\n      <td>6.780674</td>\n      <td>2.345534</td>\n      <td>3.073217</td>\n      <td>dws</td>\n      <td>1</td>\n      <td>1</td>\n    </tr>\n    <tr>\n      <th>0</th>\n      <td>-0.487880</td>\n      <td>0.978326</td>\n      <td>3.449292</td>\n      <td>1.656486</td>\n      <td>-1.154190</td>\n      <td>-0.245725</td>\n      <td>-0.365722</td>\n      <td>1.684748</td>\n      <td>7.731247</td>\n      <td>1.979464</td>\n      <td>...</td>\n      <td>0.001867</td>\n      <td>0.002267</td>\n      <td>4.412037</td>\n      <td>13.431157</td>\n      <td>9.487825</td>\n      <td>6.022618</td>\n      <td>2.581206</td>\n      <td>dws</td>\n      <td>1</td>\n      <td>1</td>\n    </tr>\n    <tr>\n      <th>0</th>\n      <td>-0.230015</td>\n      <td>0.801757</td>\n      <td>3.117364</td>\n      <td>1.283280</td>\n      <td>-1.001235</td>\n      <td>-0.049592</td>\n      <td>-0.205252</td>\n      <td>1.701594</td>\n      <td>8.058310</td>\n      <td>1.863078</td>\n      <td>...</td>\n      <td>0.001333</td>\n      <td>0.001600</td>\n      <td>5.226085</td>\n      <td>5.735624</td>\n      <td>9.180742</td>\n      <td>3.292413</td>\n      <td>3.253893</td>\n      <td>dws</td>\n      <td>1</td>\n      <td>1</td>\n    </tr>\n    <tr>\n      <th>0</th>\n      <td>-0.329812</td>\n      <td>0.915968</td>\n      <td>3.936913</td>\n      <td>1.330359</td>\n      <td>-0.442254</td>\n      <td>-0.571874</td>\n      <td>-0.214969</td>\n      <td>1.872646</td>\n      <td>8.499392</td>\n      <td>1.856482</td>\n      <td>...</td>\n      <td>0.001600</td>\n      <td>0.001867</td>\n      <td>6.868747</td>\n      <td>20.724819</td>\n      <td>3.935775</td>\n      <td>6.981037</td>\n      <td>4.640950</td>\n      <td>dws</td>\n      <td>1</td>\n      <td>1</td>\n    </tr>\n    <tr>\n      <th>...</th>\n      <td>...</td>\n      <td>...</td>\n      <td>...</td>\n      <td>...</td>\n      <td>...</td>\n      <td>...</td>\n      <td>...</td>\n      <td>...</td>\n      <td>...</td>\n      <td>...</td>\n      <td>...</td>\n      <td>...</td>\n      <td>...</td>\n      <td>...</td>\n      <td>...</td>\n      <td>...</td>\n      <td>...</td>\n      <td>...</td>\n      <td>...</td>\n      <td>...</td>\n      <td>...</td>\n    </tr>\n    <tr>\n      <th>0</th>\n      <td>0.167426</td>\n      <td>0.820002</td>\n      <td>3.218270</td>\n      <td>1.132992</td>\n      <td>-0.277282</td>\n      <td>-0.712709</td>\n      <td>0.100111</td>\n      <td>1.767713</td>\n      <td>6.997537</td>\n      <td>3.079349</td>\n      <td>...</td>\n      <td>0.001467</td>\n      <td>0.001867</td>\n      <td>8.432027</td>\n      <td>23.248258</td>\n      <td>16.387223</td>\n      <td>17.326343</td>\n      <td>14.355209</td>\n      <td>wlk</td>\n      <td>24</td>\n      <td>15</td>\n    </tr>\n    <tr>\n      <th>0</th>\n      <td>0.126343</td>\n      <td>0.864684</td>\n      <td>3.296552</td>\n      <td>1.340263</td>\n      <td>-0.396475</td>\n      <td>-0.779987</td>\n      <td>0.160952</td>\n      <td>1.712438</td>\n      <td>6.762558</td>\n      <td>2.952453</td>\n      <td>...</td>\n      <td>0.001467</td>\n      <td>0.001867</td>\n      <td>2.744796</td>\n      <td>28.087900</td>\n      <td>19.125783</td>\n      <td>22.283682</td>\n      <td>15.586845</td>\n      <td>wlk</td>\n      <td>24</td>\n      <td>15</td>\n    </tr>\n    <tr>\n      <th>0</th>\n      <td>0.115019</td>\n      <td>0.826878</td>\n      <td>2.920672</td>\n      <td>1.411312</td>\n      <td>-0.870169</td>\n      <td>-0.638618</td>\n      <td>0.099231</td>\n      <td>1.625297</td>\n      <td>5.384678</td>\n      <td>2.896010</td>\n      <td>...</td>\n      <td>0.001467</td>\n      <td>0.001867</td>\n      <td>4.545763</td>\n      <td>23.301324</td>\n      <td>14.934430</td>\n      <td>15.267009</td>\n      <td>13.367485</td>\n      <td>wlk</td>\n      <td>24</td>\n      <td>15</td>\n    </tr>\n    <tr>\n      <th>0</th>\n      <td>0.173352</td>\n      <td>1.017701</td>\n      <td>3.742444</td>\n      <td>1.614026</td>\n      <td>-0.978921</td>\n      <td>-0.555987</td>\n      <td>0.086624</td>\n      <td>1.684937</td>\n      <td>5.718094</td>\n      <td>2.846144</td>\n      <td>...</td>\n      <td>0.001467</td>\n      <td>0.001867</td>\n      <td>8.853651</td>\n      <td>22.491873</td>\n      <td>10.427867</td>\n      <td>15.859912</td>\n      <td>12.952285</td>\n      <td>wlk</td>\n      <td>24</td>\n      <td>15</td>\n    </tr>\n    <tr>\n      <th>0</th>\n      <td>0.148138</td>\n      <td>0.878020</td>\n      <td>3.440233</td>\n      <td>1.376481</td>\n      <td>-0.429483</td>\n      <td>-0.817258</td>\n      <td>0.155054</td>\n      <td>1.683638</td>\n      <td>6.281771</td>\n      <td>3.204978</td>\n      <td>...</td>\n      <td>0.001467</td>\n      <td>0.001867</td>\n      <td>6.513359</td>\n      <td>25.686275</td>\n      <td>15.784124</td>\n      <td>19.508589</td>\n      <td>15.225755</td>\n      <td>wlk</td>\n      <td>24</td>\n      <td>15</td>\n    </tr>\n  </tbody>\n</table>\n<p>8882 rows × 99 columns</p>\n</div>"
     },
     "execution_count": 6,
     "metadata": {},
     "output_type": "execute_result"
    }
   ],
   "source": [
    "df"
   ],
   "metadata": {
    "collapsed": false
   }
  },
  {
   "cell_type": "code",
   "execution_count": 10,
   "outputs": [],
   "source": [
    "df_filtered = preprocessing(df)"
   ],
   "metadata": {
    "collapsed": false
   }
  },
  {
   "cell_type": "code",
   "execution_count": 11,
   "outputs": [
    {
     "data": {
      "text/plain": "    rotationRate.x_mean  rotationRate.x_std  rotationRate.x_kurtosis  \\\n0             -0.598261            1.035781                -0.956685   \n0             -0.097542            0.911372                -0.304429   \n0             -0.487880            0.978326                -1.154190   \n0             -0.230015            0.801757                -1.001235   \n0             -0.329812            0.915968                -0.442254   \n..                  ...                 ...                      ...   \n0              0.167426            0.820002                -0.277282   \n0              0.126343            0.864684                -0.396475   \n0              0.115019            0.826878                -0.870169   \n0              0.173352            1.017701                -0.978921   \n0              0.148138            0.878020                -0.429483   \n\n    rotationRate.x_skewness  rotationRate.y_mean  rotationRate.y_std  \\\n0                 -0.026229            -0.605087            1.396446   \n0                 -0.495648            -0.277137            2.013441   \n0                 -0.245725            -0.365722            1.684748   \n0                 -0.049592            -0.205252            1.701594   \n0                 -0.571874            -0.214969            1.872646   \n..                      ...                  ...                 ...   \n0                 -0.712709             0.100111            1.767713   \n0                 -0.779987             0.160952            1.712438   \n0                 -0.638618             0.099231            1.625297   \n0                 -0.555987             0.086624            1.684937   \n0                 -0.817258             0.155054            1.683638   \n\n    rotationRate.y_kurtosis  rotationRate.y_skewness  rotationRate.z_mean  \\\n0                  0.098809                -0.346144             0.142156   \n0                 -0.544731                -0.104254             0.176279   \n0                 -0.162676                -0.500442             0.118062   \n0                 -0.026295                -0.107238             0.175721   \n0                 -0.066273                -0.179245             0.045353   \n..                      ...                      ...                  ...   \n0                 -0.940849                -0.450283            -0.202753   \n0                 -1.023655                -0.424766            -0.191931   \n0                 -1.173320                -0.439067            -0.173962   \n0                 -1.086116                -0.383748            -0.181117   \n0                 -1.220445                -0.354470            -0.193856   \n\n    rotationRate.z_std  ...  userAcceleration.zX#4  userAcceleration.zX#5  \\\n0             0.587843  ...               0.001733               0.002000   \n0             0.646674  ...               0.002133               0.002533   \n0             0.587619  ...               0.001867               0.002267   \n0             0.645406  ...               0.001333               0.001600   \n0             0.484535  ...               0.001600               0.001867   \n..                 ...  ...                    ...                    ...   \n0             1.714553  ...               0.001467               0.001867   \n0             1.700695  ...               0.001467               0.001867   \n0             1.677385  ...               0.001467               0.001867   \n0             1.838596  ...               0.001467               0.001867   \n0             1.746897  ...               0.001467               0.001867   \n\n    userAcceleration.zP#1  userAcceleration.zP#2  userAcceleration.zP#3  \\\n0               13.700572              10.224221              10.358839   \n0                5.850030              11.432027               6.780674   \n0                4.412037              13.431157               9.487825   \n0                5.226085               5.735624               9.180742   \n0                6.868747              20.724819               3.935775   \n..                    ...                    ...                    ...   \n0                8.432027              23.248258              16.387223   \n0                2.744796              28.087900              19.125783   \n0                4.545763              23.301324              14.934430   \n0                8.853651              22.491873              10.427867   \n0                6.513359              25.686275              15.784124   \n\n    userAcceleration.zP#4  userAcceleration.zP#5  class  subject  trial  \n0                6.709421               4.084380    dws        1      1  \n0                2.345534               3.073217    dws        1      1  \n0                6.022618               2.581206    dws        1      1  \n0                3.292413               3.253893    dws        1      1  \n0                6.981037               4.640950    dws        1      1  \n..                    ...                    ...    ...      ...    ...  \n0               17.326343              14.355209    wlk       24     15  \n0               22.283682              15.586845    wlk       24     15  \n0               15.267009              13.367485    wlk       24     15  \n0               15.859912              12.952285    wlk       24     15  \n0               19.508589              15.225755    wlk       24     15  \n\n[8855 rows x 86 columns]",
      "text/html": "<div>\n<style scoped>\n    .dataframe tbody tr th:only-of-type {\n        vertical-align: middle;\n    }\n\n    .dataframe tbody tr th {\n        vertical-align: top;\n    }\n\n    .dataframe thead th {\n        text-align: right;\n    }\n</style>\n<table border=\"1\" class=\"dataframe\">\n  <thead>\n    <tr style=\"text-align: right;\">\n      <th></th>\n      <th>rotationRate.x_mean</th>\n      <th>rotationRate.x_std</th>\n      <th>rotationRate.x_kurtosis</th>\n      <th>rotationRate.x_skewness</th>\n      <th>rotationRate.y_mean</th>\n      <th>rotationRate.y_std</th>\n      <th>rotationRate.y_kurtosis</th>\n      <th>rotationRate.y_skewness</th>\n      <th>rotationRate.z_mean</th>\n      <th>rotationRate.z_std</th>\n      <th>...</th>\n      <th>userAcceleration.zX#4</th>\n      <th>userAcceleration.zX#5</th>\n      <th>userAcceleration.zP#1</th>\n      <th>userAcceleration.zP#2</th>\n      <th>userAcceleration.zP#3</th>\n      <th>userAcceleration.zP#4</th>\n      <th>userAcceleration.zP#5</th>\n      <th>class</th>\n      <th>subject</th>\n      <th>trial</th>\n    </tr>\n  </thead>\n  <tbody>\n    <tr>\n      <th>0</th>\n      <td>-0.598261</td>\n      <td>1.035781</td>\n      <td>-0.956685</td>\n      <td>-0.026229</td>\n      <td>-0.605087</td>\n      <td>1.396446</td>\n      <td>0.098809</td>\n      <td>-0.346144</td>\n      <td>0.142156</td>\n      <td>0.587843</td>\n      <td>...</td>\n      <td>0.001733</td>\n      <td>0.002000</td>\n      <td>13.700572</td>\n      <td>10.224221</td>\n      <td>10.358839</td>\n      <td>6.709421</td>\n      <td>4.084380</td>\n      <td>dws</td>\n      <td>1</td>\n      <td>1</td>\n    </tr>\n    <tr>\n      <th>0</th>\n      <td>-0.097542</td>\n      <td>0.911372</td>\n      <td>-0.304429</td>\n      <td>-0.495648</td>\n      <td>-0.277137</td>\n      <td>2.013441</td>\n      <td>-0.544731</td>\n      <td>-0.104254</td>\n      <td>0.176279</td>\n      <td>0.646674</td>\n      <td>...</td>\n      <td>0.002133</td>\n      <td>0.002533</td>\n      <td>5.850030</td>\n      <td>11.432027</td>\n      <td>6.780674</td>\n      <td>2.345534</td>\n      <td>3.073217</td>\n      <td>dws</td>\n      <td>1</td>\n      <td>1</td>\n    </tr>\n    <tr>\n      <th>0</th>\n      <td>-0.487880</td>\n      <td>0.978326</td>\n      <td>-1.154190</td>\n      <td>-0.245725</td>\n      <td>-0.365722</td>\n      <td>1.684748</td>\n      <td>-0.162676</td>\n      <td>-0.500442</td>\n      <td>0.118062</td>\n      <td>0.587619</td>\n      <td>...</td>\n      <td>0.001867</td>\n      <td>0.002267</td>\n      <td>4.412037</td>\n      <td>13.431157</td>\n      <td>9.487825</td>\n      <td>6.022618</td>\n      <td>2.581206</td>\n      <td>dws</td>\n      <td>1</td>\n      <td>1</td>\n    </tr>\n    <tr>\n      <th>0</th>\n      <td>-0.230015</td>\n      <td>0.801757</td>\n      <td>-1.001235</td>\n      <td>-0.049592</td>\n      <td>-0.205252</td>\n      <td>1.701594</td>\n      <td>-0.026295</td>\n      <td>-0.107238</td>\n      <td>0.175721</td>\n      <td>0.645406</td>\n      <td>...</td>\n      <td>0.001333</td>\n      <td>0.001600</td>\n      <td>5.226085</td>\n      <td>5.735624</td>\n      <td>9.180742</td>\n      <td>3.292413</td>\n      <td>3.253893</td>\n      <td>dws</td>\n      <td>1</td>\n      <td>1</td>\n    </tr>\n    <tr>\n      <th>0</th>\n      <td>-0.329812</td>\n      <td>0.915968</td>\n      <td>-0.442254</td>\n      <td>-0.571874</td>\n      <td>-0.214969</td>\n      <td>1.872646</td>\n      <td>-0.066273</td>\n      <td>-0.179245</td>\n      <td>0.045353</td>\n      <td>0.484535</td>\n      <td>...</td>\n      <td>0.001600</td>\n      <td>0.001867</td>\n      <td>6.868747</td>\n      <td>20.724819</td>\n      <td>3.935775</td>\n      <td>6.981037</td>\n      <td>4.640950</td>\n      <td>dws</td>\n      <td>1</td>\n      <td>1</td>\n    </tr>\n    <tr>\n      <th>...</th>\n      <td>...</td>\n      <td>...</td>\n      <td>...</td>\n      <td>...</td>\n      <td>...</td>\n      <td>...</td>\n      <td>...</td>\n      <td>...</td>\n      <td>...</td>\n      <td>...</td>\n      <td>...</td>\n      <td>...</td>\n      <td>...</td>\n      <td>...</td>\n      <td>...</td>\n      <td>...</td>\n      <td>...</td>\n      <td>...</td>\n      <td>...</td>\n      <td>...</td>\n      <td>...</td>\n    </tr>\n    <tr>\n      <th>0</th>\n      <td>0.167426</td>\n      <td>0.820002</td>\n      <td>-0.277282</td>\n      <td>-0.712709</td>\n      <td>0.100111</td>\n      <td>1.767713</td>\n      <td>-0.940849</td>\n      <td>-0.450283</td>\n      <td>-0.202753</td>\n      <td>1.714553</td>\n      <td>...</td>\n      <td>0.001467</td>\n      <td>0.001867</td>\n      <td>8.432027</td>\n      <td>23.248258</td>\n      <td>16.387223</td>\n      <td>17.326343</td>\n      <td>14.355209</td>\n      <td>wlk</td>\n      <td>24</td>\n      <td>15</td>\n    </tr>\n    <tr>\n      <th>0</th>\n      <td>0.126343</td>\n      <td>0.864684</td>\n      <td>-0.396475</td>\n      <td>-0.779987</td>\n      <td>0.160952</td>\n      <td>1.712438</td>\n      <td>-1.023655</td>\n      <td>-0.424766</td>\n      <td>-0.191931</td>\n      <td>1.700695</td>\n      <td>...</td>\n      <td>0.001467</td>\n      <td>0.001867</td>\n      <td>2.744796</td>\n      <td>28.087900</td>\n      <td>19.125783</td>\n      <td>22.283682</td>\n      <td>15.586845</td>\n      <td>wlk</td>\n      <td>24</td>\n      <td>15</td>\n    </tr>\n    <tr>\n      <th>0</th>\n      <td>0.115019</td>\n      <td>0.826878</td>\n      <td>-0.870169</td>\n      <td>-0.638618</td>\n      <td>0.099231</td>\n      <td>1.625297</td>\n      <td>-1.173320</td>\n      <td>-0.439067</td>\n      <td>-0.173962</td>\n      <td>1.677385</td>\n      <td>...</td>\n      <td>0.001467</td>\n      <td>0.001867</td>\n      <td>4.545763</td>\n      <td>23.301324</td>\n      <td>14.934430</td>\n      <td>15.267009</td>\n      <td>13.367485</td>\n      <td>wlk</td>\n      <td>24</td>\n      <td>15</td>\n    </tr>\n    <tr>\n      <th>0</th>\n      <td>0.173352</td>\n      <td>1.017701</td>\n      <td>-0.978921</td>\n      <td>-0.555987</td>\n      <td>0.086624</td>\n      <td>1.684937</td>\n      <td>-1.086116</td>\n      <td>-0.383748</td>\n      <td>-0.181117</td>\n      <td>1.838596</td>\n      <td>...</td>\n      <td>0.001467</td>\n      <td>0.001867</td>\n      <td>8.853651</td>\n      <td>22.491873</td>\n      <td>10.427867</td>\n      <td>15.859912</td>\n      <td>12.952285</td>\n      <td>wlk</td>\n      <td>24</td>\n      <td>15</td>\n    </tr>\n    <tr>\n      <th>0</th>\n      <td>0.148138</td>\n      <td>0.878020</td>\n      <td>-0.429483</td>\n      <td>-0.817258</td>\n      <td>0.155054</td>\n      <td>1.683638</td>\n      <td>-1.220445</td>\n      <td>-0.354470</td>\n      <td>-0.193856</td>\n      <td>1.746897</td>\n      <td>...</td>\n      <td>0.001467</td>\n      <td>0.001867</td>\n      <td>6.513359</td>\n      <td>25.686275</td>\n      <td>15.784124</td>\n      <td>19.508589</td>\n      <td>15.225755</td>\n      <td>wlk</td>\n      <td>24</td>\n      <td>15</td>\n    </tr>\n  </tbody>\n</table>\n<p>8855 rows × 86 columns</p>\n</div>"
     },
     "execution_count": 11,
     "metadata": {},
     "output_type": "execute_result"
    }
   ],
   "source": [
    "df_filtered"
   ],
   "metadata": {
    "collapsed": false
   }
  },
  {
   "cell_type": "markdown",
   "source": [
    "#### Possibili linee guida del notebook\n",
    "- Le funzioni di _feature_extraction.py_ sono un punto d'arrivo. Avrebbe senso riportare qui alcune di quelle funzioni, come quelle della trasformata di fourier, e testare un po' di parametri (come l'N di segmentazione). In feature_extraction.py poi si riporterebbo direttamente i parametri scelti.\n",
    "\n",
    "1. Possibili ragionamenti sullo scaling dei dati?\n",
    "2. Parlare dei parametri scelti per la FFT. In particolare dire che la frequenza è quella del dataset, e se trovi un immaginetta carina della FFT (intesa come equazione) mettercela non fa male\n",
    "2. Mostrare le variazioni nel tempo e in frequenza a seconda dell'attività considerata\n",
    "3. Far vedere magari che alcune attività hanno pochi picchi significativi e che quindi \"in media\", si è pensato che 5 picchi potesse essere un buon numero\n",
    "4. O magari il ragionamento di quanti picchi trovare potrebbe essere anche una cosa di \"quanto tempo ci mette\", e quindi scegliere un numero di picchi tale che, se dovesse trovarne di più, ci metterebbe troppo tempo\n",
    "5. Una volta parlato delle feature estratte, far vedere che non tutte sono rilevanti, magari plottando userAcceleration.y_std e userAcceleration.y_range che sappiamo essere correlate al 99%. Un processo di feature selection si rende quindi necessario\n",
    "6. Da qui in poi cominciare lo studio di quale K selezionare per SelectKBest (dopo aver in qualche modo caricato il dataset preprocessato con le feature ridondanti eliminate)\n",
    "7. Svolgere lo studio magari in parallelo considerando sia la grandezza delle finestre sia K\n",
    "8. Far capire che quindi l'obiettivo del notebook è stato quello di decidere in maniera non troppo stupida sia il numero di picchi da trovare, sia N, sia K"
   ],
   "metadata": {
    "collapsed": false
   }
  },
  {
   "cell_type": "markdown",
   "source": [
    "In this notebook we're going to discuss the window's size, the features' extraction and the features' selection."
   ],
   "metadata": {
    "collapsed": false
   }
  },
  {
   "cell_type": "markdown",
   "source": [
    "For the window's size, let's consider 3 different windows' sizes, for example looking at walking, and compare the signals. We expect that if we choose a low window size the algorithm won't be able to correctly characterize the signal, and then it won't be able to classify it. On the other hand, if we select a too large window size we loose in terms of responsiveness of the application that we'll take in exam later."
   ],
   "metadata": {
    "collapsed": false
   }
  },
  {
   "cell_type": "code",
   "execution_count": null,
   "outputs": [],
   "source": [],
   "metadata": {
    "collapsed": false
   }
  }
 ],
 "metadata": {
  "kernelspec": {
   "display_name": "Python 3",
   "language": "python",
   "name": "python3"
  },
  "language_info": {
   "codemirror_mode": {
    "name": "ipython",
    "version": 2
   },
   "file_extension": ".py",
   "mimetype": "text/x-python",
   "name": "python",
   "nbconvert_exporter": "python",
   "pygments_lexer": "ipython2",
   "version": "2.7.6"
  }
 },
 "nbformat": 4,
 "nbformat_minor": 0
}
