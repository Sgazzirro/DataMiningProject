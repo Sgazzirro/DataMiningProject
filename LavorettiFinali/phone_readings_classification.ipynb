{
 "cells": [
  {
   "cell_type": "markdown",
   "source": [
    "In this notebook we would like to see how the classifier behaves when predicting labels starting from data obtained by our phone. We expect some problems due to the phone difference (IPhone 6 vs Honor 20), sensors sensitivity and scaling. Let’s see what we can do."
   ],
   "metadata": {
    "collapsed": false
   }
  },
  {
   "cell_type": "code",
   "execution_count": null,
   "outputs": [],
   "source": [
    "import pandas as pd\n",
    "from matplotlib import pyplot as plt\n",
    "import sys\n",
    "sys.path.append(\"creation_functions\")\n",
    "from creation_functions.utilities import create_time_series, preprocessing"
   ],
   "metadata": {
    "collapsed": false
   }
  },
  {
   "cell_type": "code",
   "execution_count": null,
   "outputs": [],
   "source": [
    "df_train = preprocessing(create_time_series())\n",
    "df_test = preprocessing(create_time_series(dataset=\"/honor20readings\"))\n",
    "\n",
    "X_train = df_train.drop(\"class\", axis=1)\n",
    "y_train = df_train[\"class\"]\n",
    "\n",
    "X_test = df_test.drop(\"class\", axis=1)\n",
    "y_test = df_test[\"class\"]\n",
    "\n",
    "K_FEATURES = 40"
   ],
   "metadata": {
    "collapsed": false
   }
  },
  {
   "cell_type": "code",
   "execution_count": null,
   "outputs": [],
   "source": [
    "from sklearn.feature_selection import SelectKBest\n",
    "from imblearn.over_sampling import SMOTE\n",
    "from sklearn.preprocessing import RobustScaler\n",
    "from imblearn.pipeline import Pipeline\n",
    "from sklearn.metrics import ConfusionMatrixDisplay\n",
    "from sklearn.tree import DecisionTreeClassifier\n",
    "\n",
    "tree_pipe=Pipeline([\n",
    "    (\"scaler\", RobustScaler()),\n",
    "    (\"sampling\", SMOTE()),\n",
    "    (\"feature-selector\", SelectKBest(k=K_FEATURES)),\n",
    "    (\"classifier\", DecisionTreeClassifier())\n",
    "])\n",
    "\n",
    "tree_pipe.fit(X_train, y_train)\n",
    "y_pred = tree_pipe.predict(X_test)\n",
    "ConfusionMatrixDisplay.from_predictions(y_test, y_pred, display_labels=df_train[\"class\"].unique(), cmap=plt.cm.Blues)"
   ],
   "metadata": {
    "collapsed": false
   }
  },
  {
   "cell_type": "code",
   "execution_count": null,
   "outputs": [],
   "source": [
    "from sklearn.model_selection import train_test_split\n",
    "import seaborn as sns\n",
    "\n",
    "count=0\n",
    "for i in range(0, y_pred.size):\n",
    "    if y_pred[i]==y_test[i]:\n",
    "        count+=1\n",
    "acc_phone=count/y_pred.size\n",
    "\n",
    "X_train, X_test, y_train, y_test = train_test_split(X_train, y_train, shuffle=True, random_state=42)\n",
    "tree_pipe.fit(X_train, y_train)\n",
    "y_pred = tree_pipe.predict(X_test)\n",
    "count=0\n",
    "for true, predicted in zip(y_test, y_pred):\n",
    "    if true==predicted:\n",
    "        count+=1\n",
    "acc=count/y_pred.size\n",
    "\n",
    "ax=sns.barplot(x=[\"DeviceMotion\",\"Phone data\"], y=[acc, acc_phone])\n",
    "ax.set(xlabel=\"Dataset\", ylabel=\"Accuracy\")"
   ],
   "metadata": {
    "collapsed": false
   }
  },
  {
   "cell_type": "markdown",
   "source": [
    "We can easily see that the data obtained by our phone is often misclassified, obtaining a really low accuracy compared to the score obtained classifying only readings coming from the DeviceMotion dataset. Looking at the confusion matrix we can see the most relevant miss classifications. In particular standing is always recognized as sitting, walking as jogging, and upstairs and downstairs are never recognized properly. Why do we obtain those poor results? Let’s take a look at jogging into the 2 different datasets, to compare the signals."
   ],
   "metadata": {
    "collapsed": false
   }
  },
  {
   "cell_type": "code",
   "execution_count": null,
   "outputs": [],
   "source": [
    "df_jog_deviceMotion=pd.read_csv(\"A_DeviceMotion_data/jog_9/sub_1.csv\").drop([\"Unnamed: 0\", \"attitude.roll\", \"attitude.pitch\", \"attitude.yaw\", \"gravity.x\", \"gravity.y\", \"gravity.z\"], axis=1)[100:400]\n",
    "df_jog_honor=pd.read_csv(\"../honor20readings_original/dataset_honor20_jogging1.csv\").drop(\"class\", axis=1)[100:400]"
   ],
   "metadata": {
    "collapsed": false
   }
  },
  {
   "cell_type": "code",
   "execution_count": null,
   "outputs": [],
   "source": [
    "f, axes=plt.subplots(3, 4, figsize=(20,10), sharey=True)\n",
    "f.suptitle(\"DeviceMotion vs Honor, jogging\", fontsize=20)\n",
    "i=0\n",
    "j=0\n",
    "for column in df_jog_deviceMotion:\n",
    "    axes[i][j].plot(df_jog_deviceMotion[column])\n",
    "    axes[i][j].set_xlabel(\"DeviceMotion \"+column)\n",
    "    j+=1\n",
    "    axes[i][j].plot(df_jog_honor[column])\n",
    "    axes[i][j].set_xlabel(\"Honor \"+column)\n",
    "    if j==3:\n",
    "        j=0\n",
    "        i+=1\n",
    "    else: j+=1"
   ],
   "metadata": {
    "collapsed": false
   }
  },
  {
   "cell_type": "code",
   "execution_count": null,
   "outputs": [],
   "source": [
    "df_jog_honor_scaled = pd.read_csv(\"../honor20readings/dataset_honor20_jogging1.csv\").drop(\"class\", axis=1)[100:400]\n",
    "f, axes=plt.subplots(3, 4, figsize=(20,10), sharey=True)\n",
    "f.suptitle(\"DeviceMotion vs Honor scaled, jogging\", fontsize=20)\n",
    "i=0\n",
    "j=0\n",
    "for column in df_jog_deviceMotion:\n",
    "    axes[i][j].plot(df_jog_deviceMotion[column])\n",
    "    axes[i][j].set_xlabel(\"DeviceMotion \"+column)\n",
    "    j+=1\n",
    "    axes[i][j].plot(df_jog_honor_scaled[column])\n",
    "    axes[i][j].set_xlabel(\"Honor Scaled \"+column)\n",
    "    if j==3:\n",
    "        j=0\n",
    "        i+=1\n",
    "    else: j+=1"
   ],
   "metadata": {
    "collapsed": false
   }
  },
  {
   "cell_type": "code",
   "execution_count": null,
   "outputs": [],
   "source": [
    "df_honor_scaled="
   ],
   "metadata": {
    "collapsed": false
   }
  },
  {
   "cell_type": "code",
   "execution_count": null,
   "outputs": [],
   "source": [
    "X_test_scaled = df_honor_scaled.drop(\"class\", axis=1)\n",
    "y_test_scaled = df_honor_scaled[\"class\"]\n",
    "tree_pipe.fit(X_train, y_train)\n",
    "y_pred_scaled = tree_pipe.predict(X_test_scaled)\n",
    "f, axes=plt.subplots(1,2,figsize=(20,10))\n",
    "ConfusionMatrixDisplay.from_predictions(y_test_scaled, y_pred_scaled, display_labels=df_train[\"class\"].unique(), cmap=plt.cm.Blues, ax=axes[0])\n",
    "count=0\n",
    "for i in range(0, y_pred_scaled.size):\n",
    "    if y_pred[i]==y_test[i]:\n",
    "        count+=1\n",
    "acc_phone=count/y_pred_scaled.size\n",
    "\n",
    "\n",
    "X_train, X_test, y_train, y_test = train_test_split(X_train, y_train, shuffle=True, random_state=42)\n",
    "tree_pipe.fit(X_train, y_train)\n",
    "y_pred = tree_pipe.predict(X_test)\n",
    "count=0\n",
    "for true, predicted in zip(y_test, y_pred):\n",
    "    if true==predicted:\n",
    "        count+=1\n",
    "acc=count/y_pred.size\n",
    "\n",
    "ax=sns.barplot(x=[\"DeviceMotion\",\"Phone data\"], y=[acc, acc_phone], ax=axes[1])\n",
    "ax.set(xlabel=\"Dataset\", ylabel=\"Accuracy\")"
   ],
   "metadata": {
    "collapsed": false
   }
  }
 ],
 "metadata": {
  "kernelspec": {
   "display_name": "Python 3",
   "language": "python",
   "name": "python3"
  },
  "language_info": {
   "codemirror_mode": {
    "name": "ipython",
    "version": 2
   },
   "file_extension": ".py",
   "mimetype": "text/x-python",
   "name": "python",
   "nbconvert_exporter": "python",
   "pygments_lexer": "ipython2",
   "version": "2.7.6"
  }
 },
 "nbformat": 4,
 "nbformat_minor": 0
}
