{
 "cells": [
  {
   "cell_type": "markdown",
   "source": [],
   "metadata": {
    "collapsed": false
   }
  },
  {
   "cell_type": "code",
   "execution_count": 1,
   "metadata": {
    "collapsed": true
   },
   "outputs": [],
   "source": [
    "import sys\n",
    "sys.path.append(\"creation_functions\")"
   ]
  },
  {
   "cell_type": "code",
   "execution_count": 2,
   "outputs": [],
   "source": [
    "from creation_functions.dataset_creation import select_sensors, create_time_series\n",
    "import numpy as np\n"
   ],
   "metadata": {
    "collapsed": false
   }
  },
  {
   "cell_type": "code",
   "execution_count": 3,
   "outputs": [
    {
     "name": "stdout",
     "output_type": "stream",
     "text": [
      "['userAcceleration.x', 'userAcceleration.y', 'userAcceleration.z', 'rotationRate.x', 'rotationRate.y', 'rotationRate.z', 'subject', 'trial', 'class']\n"
     ]
    },
    {
     "data": {
      "text/plain": "        userAcceleration.x  userAcceleration.y   userAcceleration.z  \\\n0                 0.294894           -0.184493             0.377542   \n1                 0.219405  0.0358459999999999             0.114866   \n2                 0.010714            0.134701  -0.1678079999999999   \n3                -0.008389            0.136788             0.094958   \n4                 0.199441            0.353996            -0.044299   \n...                    ...                 ...                  ...   \n1412860           0.034354           -0.574501             0.060144   \n1412861           0.547953           -0.481645            -0.232273   \n1412862           0.910034            0.194606  -0.7702220000000001   \n1412863           0.811333            0.424518            -0.716784   \n1412864          -0.733485             1.49025            -0.275576   \n\n             rotationRate.x rotationRate.y       rotationRate.z subject trial  \\\n0                  0.316738        0.77818   1.0827639999999998       1     1   \n1                  0.842032       0.424446             0.643574       1     1   \n2                 -0.138143      -0.040741             0.343563       1     1   \n3                 -0.025005      -1.048717              0.03586       1     1   \n4                  0.114253       -0.91289             0.047341       1     1   \n...                     ...            ...                  ...     ...   ...   \n1412860  1.4462700000000002       2.409207            -1.052698      24    15   \n1412861             0.60201       2.675064  -0.4724819999999999      24    15   \n1412862            1.125564       4.413143             1.581002      24    15   \n1412863             0.08691       0.436147             1.762577      24    15   \n1412864            0.290219      -2.380552            -0.248128      24    15   \n\n        class  \n0         dws  \n1         dws  \n2         dws  \n3         dws  \n4         dws  \n...       ...  \n1412860   wlk  \n1412861   wlk  \n1412862   wlk  \n1412863   wlk  \n1412864   wlk  \n\n[1412865 rows x 9 columns]",
      "text/html": "<div>\n<style scoped>\n    .dataframe tbody tr th:only-of-type {\n        vertical-align: middle;\n    }\n\n    .dataframe tbody tr th {\n        vertical-align: top;\n    }\n\n    .dataframe thead th {\n        text-align: right;\n    }\n</style>\n<table border=\"1\" class=\"dataframe\">\n  <thead>\n    <tr style=\"text-align: right;\">\n      <th></th>\n      <th>userAcceleration.x</th>\n      <th>userAcceleration.y</th>\n      <th>userAcceleration.z</th>\n      <th>rotationRate.x</th>\n      <th>rotationRate.y</th>\n      <th>rotationRate.z</th>\n      <th>subject</th>\n      <th>trial</th>\n      <th>class</th>\n    </tr>\n  </thead>\n  <tbody>\n    <tr>\n      <th>0</th>\n      <td>0.294894</td>\n      <td>-0.184493</td>\n      <td>0.377542</td>\n      <td>0.316738</td>\n      <td>0.77818</td>\n      <td>1.0827639999999998</td>\n      <td>1</td>\n      <td>1</td>\n      <td>dws</td>\n    </tr>\n    <tr>\n      <th>1</th>\n      <td>0.219405</td>\n      <td>0.0358459999999999</td>\n      <td>0.114866</td>\n      <td>0.842032</td>\n      <td>0.424446</td>\n      <td>0.643574</td>\n      <td>1</td>\n      <td>1</td>\n      <td>dws</td>\n    </tr>\n    <tr>\n      <th>2</th>\n      <td>0.010714</td>\n      <td>0.134701</td>\n      <td>-0.1678079999999999</td>\n      <td>-0.138143</td>\n      <td>-0.040741</td>\n      <td>0.343563</td>\n      <td>1</td>\n      <td>1</td>\n      <td>dws</td>\n    </tr>\n    <tr>\n      <th>3</th>\n      <td>-0.008389</td>\n      <td>0.136788</td>\n      <td>0.094958</td>\n      <td>-0.025005</td>\n      <td>-1.048717</td>\n      <td>0.03586</td>\n      <td>1</td>\n      <td>1</td>\n      <td>dws</td>\n    </tr>\n    <tr>\n      <th>4</th>\n      <td>0.199441</td>\n      <td>0.353996</td>\n      <td>-0.044299</td>\n      <td>0.114253</td>\n      <td>-0.91289</td>\n      <td>0.047341</td>\n      <td>1</td>\n      <td>1</td>\n      <td>dws</td>\n    </tr>\n    <tr>\n      <th>...</th>\n      <td>...</td>\n      <td>...</td>\n      <td>...</td>\n      <td>...</td>\n      <td>...</td>\n      <td>...</td>\n      <td>...</td>\n      <td>...</td>\n      <td>...</td>\n    </tr>\n    <tr>\n      <th>1412860</th>\n      <td>0.034354</td>\n      <td>-0.574501</td>\n      <td>0.060144</td>\n      <td>1.4462700000000002</td>\n      <td>2.409207</td>\n      <td>-1.052698</td>\n      <td>24</td>\n      <td>15</td>\n      <td>wlk</td>\n    </tr>\n    <tr>\n      <th>1412861</th>\n      <td>0.547953</td>\n      <td>-0.481645</td>\n      <td>-0.232273</td>\n      <td>0.60201</td>\n      <td>2.675064</td>\n      <td>-0.4724819999999999</td>\n      <td>24</td>\n      <td>15</td>\n      <td>wlk</td>\n    </tr>\n    <tr>\n      <th>1412862</th>\n      <td>0.910034</td>\n      <td>0.194606</td>\n      <td>-0.7702220000000001</td>\n      <td>1.125564</td>\n      <td>4.413143</td>\n      <td>1.581002</td>\n      <td>24</td>\n      <td>15</td>\n      <td>wlk</td>\n    </tr>\n    <tr>\n      <th>1412863</th>\n      <td>0.811333</td>\n      <td>0.424518</td>\n      <td>-0.716784</td>\n      <td>0.08691</td>\n      <td>0.436147</td>\n      <td>1.762577</td>\n      <td>24</td>\n      <td>15</td>\n      <td>wlk</td>\n    </tr>\n    <tr>\n      <th>1412864</th>\n      <td>-0.733485</td>\n      <td>1.49025</td>\n      <td>-0.275576</td>\n      <td>0.290219</td>\n      <td>-2.380552</td>\n      <td>-0.248128</td>\n      <td>24</td>\n      <td>15</td>\n      <td>wlk</td>\n    </tr>\n  </tbody>\n</table>\n<p>1412865 rows × 9 columns</p>\n</div>"
     },
     "execution_count": 3,
     "metadata": {},
     "output_type": "execute_result"
    }
   ],
   "source": [
    "ACTIVITY_CODES = [\"dws\", \"jog\", \"sit\", \"std\", \"ups\", \"wlk\"]\n",
    "\n",
    "TRIAL_CODES = {\n",
    "    ACTIVITY_CODES[0]:[1,2,11],\n",
    "    ACTIVITY_CODES[1]:[9,16],\n",
    "    ACTIVITY_CODES[2]:[5,13],\n",
    "    ACTIVITY_CODES[3]:[6,14],\n",
    "    ACTIVITY_CODES[4]:[3,4,12],\n",
    "    ACTIVITY_CODES[5]:[7,8,15]\n",
    "}\n",
    "\n",
    "ACTORS = np.linspace(1, 24, 24).astype(int)\n",
    "dt_list = select_sensors([\"userAcceleration\",\"rotationRate\"])\n",
    "df = create_time_series(dt_list, ACTIVITY_CODES, TRIAL_CODES, ACTORS)\n",
    "df"
   ],
   "metadata": {
    "collapsed": false
   }
  },
  {
   "cell_type": "code",
   "execution_count": 3,
   "outputs": [],
   "source": [],
   "metadata": {
    "collapsed": false
   }
  },
  {
   "cell_type": "code",
   "execution_count": 3,
   "outputs": [],
   "source": [],
   "metadata": {
    "collapsed": false
   }
  }
 ],
 "metadata": {
  "kernelspec": {
   "display_name": "Python 3",
   "language": "python",
   "name": "python3"
  },
  "language_info": {
   "codemirror_mode": {
    "name": "ipython",
    "version": 2
   },
   "file_extension": ".py",
   "mimetype": "text/x-python",
   "name": "python",
   "nbconvert_exporter": "python",
   "pygments_lexer": "ipython2",
   "version": "2.7.6"
  }
 },
 "nbformat": 4,
 "nbformat_minor": 0
}
